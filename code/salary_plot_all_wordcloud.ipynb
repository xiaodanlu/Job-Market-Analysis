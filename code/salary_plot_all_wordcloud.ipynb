{
 "cells": [
  {
   "cell_type": "code",
   "execution_count": 19,
   "metadata": {},
   "outputs": [],
   "source": [
    "import numpy as np\n",
    "import pandas as pd\n",
    "import json\n",
    "import os\n",
    "import re"
   ]
  },
  {
   "cell_type": "code",
   "execution_count": 20,
   "metadata": {},
   "outputs": [
    {
     "data": {
      "text/plain": [
       "47"
      ]
     },
     "execution_count": 20,
     "metadata": {},
     "output_type": "execute_result"
    }
   ],
   "source": [
    "# get all json file path in the folder\n",
    "folder_path = \"../dataset/USA\"\n",
    "\n",
    "file_paths = []\n",
    "for filename in os.listdir(folder_path):\n",
    "    filepath = os.path.join(folder_path, filename)\n",
    "    if os.path.isfile(filepath):\n",
    "        file_paths.append(filepath)\n",
    "\n",
    "len(file_paths)"
   ]
  },
  {
   "attachments": {},
   "cell_type": "markdown",
   "metadata": {},
   "source": [
    "## add file name"
   ]
  },
  {
   "cell_type": "code",
   "execution_count": 21,
   "metadata": {},
   "outputs": [
    {
     "name": "stdout",
     "output_type": "stream",
     "text": [
      "dict_keys(['block-chain', 'data-scientist', 'natural-language-processing', 'reinforcement-learning', 'neural-networks', 'big-data-and-cloud-computing', 'data-analyst', 'machine-learning', 'time-series-analysis', 'deep-learning'])\n"
     ]
    }
   ],
   "source": [
    "job_results_by_types = {}\n",
    "\n",
    "for file_path in file_paths:\n",
    "    match = re.search(r'/([^/]+)-\\d+\\.json$', file_path)\n",
    "    if match:\n",
    "        job_type = match.group(1)\n",
    "        with open(file_path, 'r') as f:\n",
    "            data = json.load(f)\n",
    "        job_results_by_types[job_type] = job_results_by_types.get(job_type, []) + [data,]\n",
    "\n",
    "print(job_results_by_types.keys())"
   ]
  },
  {
   "cell_type": "code",
   "execution_count": 22,
   "metadata": {},
   "outputs": [],
   "source": [
    "salary_by_types = pd.DataFrame(columns=['type', 'salary', 'job_id', 'description'])\n",
    "data = []"
   ]
  },
  {
   "cell_type": "code",
   "execution_count": 23,
   "metadata": {},
   "outputs": [
    {
     "name": "stderr",
     "output_type": "stream",
     "text": [
      "/var/folders/h0/sq_brb3d0_lfvtk4fhlbrck00000gn/T/ipykernel_47150/1913384873.py:65: FutureWarning: The frame.append method is deprecated and will be removed from pandas in a future version. Use pandas.concat instead.\n",
      "  salary_by_types = salary_by_types.append(data, ignore_index=True)\n"
     ]
    }
   ],
   "source": [
    "for job_type in job_results_by_types:\n",
    "    datasets = job_results_by_types[job_type]\n",
    "\n",
    "    for dataset in datasets:\n",
    "        if 'jobs_results' not in dataset:\n",
    "            continue \n",
    "        jobs_results = dataset[\"jobs_results\"]\n",
    "        for job_result in jobs_results:\n",
    "            description = job_result[\"description\"] \n",
    "            job_highlights = job_result[\"job_highlights\"] \n",
    "\n",
    "            qualifications = None \n",
    "            responsibilities = None \n",
    "            benefits = None \n",
    "\n",
    "            for highlight in job_highlights:\n",
    "                if highlight.get(\"title\") == \"Qualifications\":\n",
    "                    qualifications = highlight.get(\"items\") \n",
    "                elif highlight.get(\"title\") == \"Responsibilities\":\n",
    "                    responsibilities = highlight.get(\"items\")\n",
    "                elif highlight.get(\"title\") == 'Benefits':\n",
    "                    benefits = highlight.get(\"items\") \n",
    "\n",
    "            job_id = job_result[\"job_id\"]\n",
    "            salary_regex = r\"\\$([0-9,]+)\"\n",
    "\n",
    "            list_of_text = [description, qualifications, responsibilities, benefits]\n",
    "            total_salary = 0\n",
    "            num_salary = 0\n",
    "            for text_item in list_of_text:\n",
    "                if text_item is None:\n",
    "                    continue \n",
    "                else:\n",
    "                    if type(text_item) is list:\n",
    "                        for text in text_item:\n",
    "                            matches = re.findall(salary_regex, text)\n",
    "\n",
    "                            if len(matches) == 0:\n",
    "                                continue \n",
    "                            \n",
    "                            for match in matches:\n",
    "                                salary = float(match.replace(',', ''))\n",
    "                                if salary < 100000:\n",
    "                                    continue \n",
    "                                total_salary += salary\n",
    "                                num_salary += 1\n",
    "                    else:\n",
    "                        matches = re.findall(salary_regex, text_item)\n",
    "\n",
    "                        if len(matches) == 0:\n",
    "                            continue\n",
    "                        \n",
    "                        for match in matches:\n",
    "                            salary = float(match.replace(',', ''))\n",
    "                            if salary < 100000:\n",
    "                                continue \n",
    "                            total_salary += salary\n",
    "                            num_salary += 1\n",
    "\n",
    "            if num_salary != 0:\n",
    "                avg_salary = total_salary / num_salary\n",
    "                data.append({'type': job_type, \"salary\": avg_salary, 'job_id': job_id, 'description': description})\n",
    "\n",
    "\n",
    "salary_by_types = salary_by_types.append(data, ignore_index=True)"
   ]
  },
  {
   "cell_type": "code",
   "execution_count": 24,
   "metadata": {},
   "outputs": [
    {
     "data": {
      "text/html": [
       "<div>\n",
       "<style scoped>\n",
       "    .dataframe tbody tr th:only-of-type {\n",
       "        vertical-align: middle;\n",
       "    }\n",
       "\n",
       "    .dataframe tbody tr th {\n",
       "        vertical-align: top;\n",
       "    }\n",
       "\n",
       "    .dataframe thead th {\n",
       "        text-align: right;\n",
       "    }\n",
       "</style>\n",
       "<table border=\"1\" class=\"dataframe\">\n",
       "  <thead>\n",
       "    <tr style=\"text-align: right;\">\n",
       "      <th></th>\n",
       "      <th>type</th>\n",
       "      <th>salary</th>\n",
       "      <th>job_id</th>\n",
       "      <th>description</th>\n",
       "    </tr>\n",
       "  </thead>\n",
       "  <tbody>\n",
       "    <tr>\n",
       "      <th>0</th>\n",
       "      <td>block-chain</td>\n",
       "      <td>156000.0</td>\n",
       "      <td>eyJqb2JfdGl0bGUiOiJCbG9ja2NoYWluIFx1MDAyNiBEaW...</td>\n",
       "      <td>We are expanding Deloitte's Audit &amp; Assurance ...</td>\n",
       "    </tr>\n",
       "    <tr>\n",
       "      <th>1</th>\n",
       "      <td>block-chain</td>\n",
       "      <td>180000.0</td>\n",
       "      <td>eyJqb2JfdGl0bGUiOiJCbG9ja2NoYWluIEVuZ2luZWVyIi...</td>\n",
       "      <td>We are seeking a highly motivated and skilled ...</td>\n",
       "    </tr>\n",
       "    <tr>\n",
       "      <th>2</th>\n",
       "      <td>block-chain</td>\n",
       "      <td>500000.0</td>\n",
       "      <td>eyJqb2JfdGl0bGUiOiJEZUZpIEJsb2NrY2hhaW4gQ28tRm...</td>\n",
       "      <td>Cryptops is currently looking for a Co-Founder...</td>\n",
       "    </tr>\n",
       "    <tr>\n",
       "      <th>3</th>\n",
       "      <td>block-chain</td>\n",
       "      <td>180000.0</td>\n",
       "      <td>eyJqb2JfdGl0bGUiOiJCbG9ja2NoYWluIEVuZ2luZWVyIi...</td>\n",
       "      <td>21.co is the world's leader in providing acces...</td>\n",
       "    </tr>\n",
       "    <tr>\n",
       "      <th>4</th>\n",
       "      <td>block-chain</td>\n",
       "      <td>150000.0</td>\n",
       "      <td>eyJqb2JfdGl0bGUiOiJCbG9ja2NoYWluIEVuZ2luZWVyIi...</td>\n",
       "      <td>Jump Crypto is committed to building and stand...</td>\n",
       "    </tr>\n",
       "  </tbody>\n",
       "</table>\n",
       "</div>"
      ],
      "text/plain": [
       "          type    salary                                             job_id  \\\n",
       "0  block-chain  156000.0  eyJqb2JfdGl0bGUiOiJCbG9ja2NoYWluIFx1MDAyNiBEaW...   \n",
       "1  block-chain  180000.0  eyJqb2JfdGl0bGUiOiJCbG9ja2NoYWluIEVuZ2luZWVyIi...   \n",
       "2  block-chain  500000.0  eyJqb2JfdGl0bGUiOiJEZUZpIEJsb2NrY2hhaW4gQ28tRm...   \n",
       "3  block-chain  180000.0  eyJqb2JfdGl0bGUiOiJCbG9ja2NoYWluIEVuZ2luZWVyIi...   \n",
       "4  block-chain  150000.0  eyJqb2JfdGl0bGUiOiJCbG9ja2NoYWluIEVuZ2luZWVyIi...   \n",
       "\n",
       "                                         description  \n",
       "0  We are expanding Deloitte's Audit & Assurance ...  \n",
       "1  We are seeking a highly motivated and skilled ...  \n",
       "2  Cryptops is currently looking for a Co-Founder...  \n",
       "3  21.co is the world's leader in providing acces...  \n",
       "4  Jump Crypto is committed to building and stand...  "
      ]
     },
     "execution_count": 24,
     "metadata": {},
     "output_type": "execute_result"
    }
   ],
   "source": [
    "salary_by_types.head()"
   ]
  },
  {
   "cell_type": "code",
   "execution_count": 25,
   "metadata": {},
   "outputs": [],
   "source": [
    "salary_by_types = salary_by_types.drop_duplicates(subset=['job_id', 'salary'])"
   ]
  },
  {
   "cell_type": "code",
   "execution_count": 26,
   "metadata": {},
   "outputs": [
    {
     "data": {
      "text/html": [
       "<div>\n",
       "<style scoped>\n",
       "    .dataframe tbody tr th:only-of-type {\n",
       "        vertical-align: middle;\n",
       "    }\n",
       "\n",
       "    .dataframe tbody tr th {\n",
       "        vertical-align: top;\n",
       "    }\n",
       "\n",
       "    .dataframe thead th {\n",
       "        text-align: right;\n",
       "    }\n",
       "</style>\n",
       "<table border=\"1\" class=\"dataframe\">\n",
       "  <thead>\n",
       "    <tr style=\"text-align: right;\">\n",
       "      <th></th>\n",
       "      <th>type</th>\n",
       "      <th>salary</th>\n",
       "      <th>job_id</th>\n",
       "      <th>description</th>\n",
       "    </tr>\n",
       "  </thead>\n",
       "  <tbody>\n",
       "    <tr>\n",
       "      <th>0</th>\n",
       "      <td>block-chain</td>\n",
       "      <td>156000.0</td>\n",
       "      <td>eyJqb2JfdGl0bGUiOiJCbG9ja2NoYWluIFx1MDAyNiBEaW...</td>\n",
       "      <td>We are expanding Deloitte's Audit &amp; Assurance ...</td>\n",
       "    </tr>\n",
       "    <tr>\n",
       "      <th>1</th>\n",
       "      <td>block-chain</td>\n",
       "      <td>180000.0</td>\n",
       "      <td>eyJqb2JfdGl0bGUiOiJCbG9ja2NoYWluIEVuZ2luZWVyIi...</td>\n",
       "      <td>We are seeking a highly motivated and skilled ...</td>\n",
       "    </tr>\n",
       "    <tr>\n",
       "      <th>2</th>\n",
       "      <td>block-chain</td>\n",
       "      <td>500000.0</td>\n",
       "      <td>eyJqb2JfdGl0bGUiOiJEZUZpIEJsb2NrY2hhaW4gQ28tRm...</td>\n",
       "      <td>Cryptops is currently looking for a Co-Founder...</td>\n",
       "    </tr>\n",
       "    <tr>\n",
       "      <th>3</th>\n",
       "      <td>block-chain</td>\n",
       "      <td>180000.0</td>\n",
       "      <td>eyJqb2JfdGl0bGUiOiJCbG9ja2NoYWluIEVuZ2luZWVyIi...</td>\n",
       "      <td>21.co is the world's leader in providing acces...</td>\n",
       "    </tr>\n",
       "    <tr>\n",
       "      <th>4</th>\n",
       "      <td>block-chain</td>\n",
       "      <td>150000.0</td>\n",
       "      <td>eyJqb2JfdGl0bGUiOiJCbG9ja2NoYWluIEVuZ2luZWVyIi...</td>\n",
       "      <td>Jump Crypto is committed to building and stand...</td>\n",
       "    </tr>\n",
       "  </tbody>\n",
       "</table>\n",
       "</div>"
      ],
      "text/plain": [
       "          type    salary                                             job_id  \\\n",
       "0  block-chain  156000.0  eyJqb2JfdGl0bGUiOiJCbG9ja2NoYWluIFx1MDAyNiBEaW...   \n",
       "1  block-chain  180000.0  eyJqb2JfdGl0bGUiOiJCbG9ja2NoYWluIEVuZ2luZWVyIi...   \n",
       "2  block-chain  500000.0  eyJqb2JfdGl0bGUiOiJEZUZpIEJsb2NrY2hhaW4gQ28tRm...   \n",
       "3  block-chain  180000.0  eyJqb2JfdGl0bGUiOiJCbG9ja2NoYWluIEVuZ2luZWVyIi...   \n",
       "4  block-chain  150000.0  eyJqb2JfdGl0bGUiOiJCbG9ja2NoYWluIEVuZ2luZWVyIi...   \n",
       "\n",
       "                                         description  \n",
       "0  We are expanding Deloitte's Audit & Assurance ...  \n",
       "1  We are seeking a highly motivated and skilled ...  \n",
       "2  Cryptops is currently looking for a Co-Founder...  \n",
       "3  21.co is the world's leader in providing acces...  \n",
       "4  Jump Crypto is committed to building and stand...  "
      ]
     },
     "execution_count": 26,
     "metadata": {},
     "output_type": "execute_result"
    }
   ],
   "source": [
    "salary_by_types.head(5)"
   ]
  },
  {
   "cell_type": "code",
   "execution_count": 27,
   "metadata": {},
   "outputs": [
    {
     "data": {
      "text/plain": [
       "(111, 4)"
      ]
     },
     "execution_count": 27,
     "metadata": {},
     "output_type": "execute_result"
    }
   ],
   "source": [
    "salary_by_types.shape"
   ]
  },
  {
   "cell_type": "code",
   "execution_count": 28,
   "metadata": {},
   "outputs": [
    {
     "data": {
      "text/plain": [
       "type\n",
       "big-data-and-cloud-computing    193785.714286\n",
       "block-chain                     201554.363636\n",
       "data-analyst                    123714.285714\n",
       "data-scientist                  159147.500000\n",
       "deep-learning                   193394.230769\n",
       "machine-learning                198813.544974\n",
       "natural-language-processing     193539.409091\n",
       "neural-networks                 220583.333333\n",
       "reinforcement-learning          190942.545918\n",
       "Name: salary, dtype: float64"
      ]
     },
     "execution_count": 28,
     "metadata": {},
     "output_type": "execute_result"
    }
   ],
   "source": [
    "salary_by_types.groupby(\"type\")['salary'].mean()"
   ]
  },
  {
   "cell_type": "code",
   "execution_count": 29,
   "metadata": {},
   "outputs": [],
   "source": [
    "import plotly.graph_objects as go\n",
    "import plotly.express as px\n",
    "import plotly.io as pio\n",
    "\n",
    "pio.renderers.default = \"plotly_mimetype+notebook_connected\""
   ]
  },
  {
   "cell_type": "code",
   "execution_count": 30,
   "metadata": {},
   "outputs": [
    {
     "data": {
      "text/html": [
       "        <script type=\"text/javascript\">\n",
       "        window.PlotlyConfig = {MathJaxConfig: 'local'};\n",
       "        if (window.MathJax && window.MathJax.Hub && window.MathJax.Hub.Config) {window.MathJax.Hub.Config({SVG: {font: \"STIX-Web\"}});}\n",
       "        if (typeof require !== 'undefined') {\n",
       "        require.undef(\"plotly\");\n",
       "        requirejs.config({\n",
       "            paths: {\n",
       "                'plotly': ['https://cdn.plot.ly/plotly-2.12.1.min']\n",
       "            }\n",
       "        });\n",
       "        require(['plotly'], function(Plotly) {\n",
       "            window._Plotly = Plotly;\n",
       "        });\n",
       "        }\n",
       "        </script>\n",
       "        "
      ]
     },
     "metadata": {},
     "output_type": "display_data"
    },
    {
     "data": {
      "application/vnd.plotly.v1+json": {
       "config": {
        "plotlyServerURL": "https://plot.ly"
       },
       "data": [
        {
         "alignmentgroup": "True",
         "hovertemplate": "salary=%{x}<br>type=%{y}<extra></extra>",
         "legendgroup": "",
         "marker": {
          "color": "#ff0000"
         },
         "name": "",
         "notched": false,
         "offsetgroup": "",
         "orientation": "h",
         "showlegend": false,
         "type": "box",
         "x": [
          156000,
          180000,
          500000,
          180000,
          150000,
          175000,
          153400,
          209099,
          104500,
          200000,
          209099,
          156650,
          174080,
          132906,
          142600,
          175300,
          121000,
          106000,
          229400,
          220000,
          180250,
          166000,
          158445,
          137844,
          149280,
          152000,
          112500,
          121000,
          229400,
          150000,
          186000,
          219000,
          186000,
          136644.5,
          136644.5,
          253000,
          253000,
          219000,
          253000,
          136644.5,
          205757.14285714287,
          218700,
          135200,
          285000,
          159982.5,
          159000,
          180000,
          158500,
          203556,
          164000,
          212000,
          186000,
          186000,
          219500,
          300000,
          138000,
          160250,
          300000,
          238000,
          188000,
          175000,
          300000,
          186000,
          135500,
          400000,
          135500,
          186000,
          176000,
          176000,
          147500,
          120000,
          124000,
          105000,
          158000,
          110000,
          129000,
          120000,
          222000,
          163333.33333333334,
          179875,
          196200,
          286250,
          207000,
          292511.1111111111,
          245000,
          192500,
          199700,
          207125,
          185000,
          257000,
          117660,
          179875,
          196200,
          174200,
          130000,
          212000,
          157175,
          174480,
          207125,
          190000,
          207000,
          196200,
          150000,
          212000,
          175000,
          186000,
          157175,
          250000,
          204000,
          207125,
          172500
         ],
         "x0": " ",
         "xaxis": "x",
         "y": [
          "block-chain",
          "block-chain",
          "block-chain",
          "block-chain",
          "block-chain",
          "block-chain",
          "block-chain",
          "block-chain",
          "block-chain",
          "block-chain",
          "block-chain",
          "data-scientist",
          "data-scientist",
          "data-scientist",
          "data-scientist",
          "data-scientist",
          "data-scientist",
          "data-scientist",
          "data-scientist",
          "data-scientist",
          "data-scientist",
          "data-scientist",
          "data-scientist",
          "data-scientist",
          "data-scientist",
          "data-scientist",
          "data-scientist",
          "data-scientist",
          "data-scientist",
          "natural-language-processing",
          "natural-language-processing",
          "natural-language-processing",
          "natural-language-processing",
          "natural-language-processing",
          "natural-language-processing",
          "natural-language-processing",
          "natural-language-processing",
          "natural-language-processing",
          "natural-language-processing",
          "natural-language-processing",
          "reinforcement-learning",
          "reinforcement-learning",
          "reinforcement-learning",
          "reinforcement-learning",
          "reinforcement-learning",
          "reinforcement-learning",
          "reinforcement-learning",
          "reinforcement-learning",
          "reinforcement-learning",
          "reinforcement-learning",
          "reinforcement-learning",
          "reinforcement-learning",
          "reinforcement-learning",
          "reinforcement-learning",
          "neural-networks",
          "neural-networks",
          "neural-networks",
          "neural-networks",
          "neural-networks",
          "neural-networks",
          "neural-networks",
          "neural-networks",
          "neural-networks",
          "big-data-and-cloud-computing",
          "big-data-and-cloud-computing",
          "big-data-and-cloud-computing",
          "big-data-and-cloud-computing",
          "big-data-and-cloud-computing",
          "big-data-and-cloud-computing",
          "big-data-and-cloud-computing",
          "data-analyst",
          "data-analyst",
          "data-analyst",
          "data-analyst",
          "data-analyst",
          "data-analyst",
          "data-analyst",
          "machine-learning",
          "machine-learning",
          "machine-learning",
          "machine-learning",
          "machine-learning",
          "machine-learning",
          "machine-learning",
          "machine-learning",
          "machine-learning",
          "machine-learning",
          "machine-learning",
          "machine-learning",
          "machine-learning",
          "machine-learning",
          "machine-learning",
          "machine-learning",
          "machine-learning",
          "machine-learning",
          "machine-learning",
          "machine-learning",
          "machine-learning",
          "deep-learning",
          "deep-learning",
          "deep-learning",
          "deep-learning",
          "deep-learning",
          "deep-learning",
          "deep-learning",
          "deep-learning",
          "deep-learning",
          "deep-learning",
          "deep-learning",
          "deep-learning",
          "deep-learning"
         ],
         "y0": " ",
         "yaxis": "y"
        }
       ],
       "layout": {
        "boxmode": "group",
        "font": {
         "size": 12
        },
        "legend": {
         "tracegroupgap": 0
        },
        "paper_bgcolor": "#F8F8F8",
        "plot_bgcolor": "#F8F8F8",
        "template": {
         "data": {
          "bar": [
           {
            "error_x": {
             "color": "#2a3f5f"
            },
            "error_y": {
             "color": "#2a3f5f"
            },
            "marker": {
             "line": {
              "color": "#E5ECF6",
              "width": 0.5
             },
             "pattern": {
              "fillmode": "overlay",
              "size": 10,
              "solidity": 0.2
             }
            },
            "type": "bar"
           }
          ],
          "barpolar": [
           {
            "marker": {
             "line": {
              "color": "#E5ECF6",
              "width": 0.5
             },
             "pattern": {
              "fillmode": "overlay",
              "size": 10,
              "solidity": 0.2
             }
            },
            "type": "barpolar"
           }
          ],
          "carpet": [
           {
            "aaxis": {
             "endlinecolor": "#2a3f5f",
             "gridcolor": "white",
             "linecolor": "white",
             "minorgridcolor": "white",
             "startlinecolor": "#2a3f5f"
            },
            "baxis": {
             "endlinecolor": "#2a3f5f",
             "gridcolor": "white",
             "linecolor": "white",
             "minorgridcolor": "white",
             "startlinecolor": "#2a3f5f"
            },
            "type": "carpet"
           }
          ],
          "choropleth": [
           {
            "colorbar": {
             "outlinewidth": 0,
             "ticks": ""
            },
            "type": "choropleth"
           }
          ],
          "contour": [
           {
            "colorbar": {
             "outlinewidth": 0,
             "ticks": ""
            },
            "colorscale": [
             [
              0,
              "#0d0887"
             ],
             [
              0.1111111111111111,
              "#46039f"
             ],
             [
              0.2222222222222222,
              "#7201a8"
             ],
             [
              0.3333333333333333,
              "#9c179e"
             ],
             [
              0.4444444444444444,
              "#bd3786"
             ],
             [
              0.5555555555555556,
              "#d8576b"
             ],
             [
              0.6666666666666666,
              "#ed7953"
             ],
             [
              0.7777777777777778,
              "#fb9f3a"
             ],
             [
              0.8888888888888888,
              "#fdca26"
             ],
             [
              1,
              "#f0f921"
             ]
            ],
            "type": "contour"
           }
          ],
          "contourcarpet": [
           {
            "colorbar": {
             "outlinewidth": 0,
             "ticks": ""
            },
            "type": "contourcarpet"
           }
          ],
          "heatmap": [
           {
            "colorbar": {
             "outlinewidth": 0,
             "ticks": ""
            },
            "colorscale": [
             [
              0,
              "#0d0887"
             ],
             [
              0.1111111111111111,
              "#46039f"
             ],
             [
              0.2222222222222222,
              "#7201a8"
             ],
             [
              0.3333333333333333,
              "#9c179e"
             ],
             [
              0.4444444444444444,
              "#bd3786"
             ],
             [
              0.5555555555555556,
              "#d8576b"
             ],
             [
              0.6666666666666666,
              "#ed7953"
             ],
             [
              0.7777777777777778,
              "#fb9f3a"
             ],
             [
              0.8888888888888888,
              "#fdca26"
             ],
             [
              1,
              "#f0f921"
             ]
            ],
            "type": "heatmap"
           }
          ],
          "heatmapgl": [
           {
            "colorbar": {
             "outlinewidth": 0,
             "ticks": ""
            },
            "colorscale": [
             [
              0,
              "#0d0887"
             ],
             [
              0.1111111111111111,
              "#46039f"
             ],
             [
              0.2222222222222222,
              "#7201a8"
             ],
             [
              0.3333333333333333,
              "#9c179e"
             ],
             [
              0.4444444444444444,
              "#bd3786"
             ],
             [
              0.5555555555555556,
              "#d8576b"
             ],
             [
              0.6666666666666666,
              "#ed7953"
             ],
             [
              0.7777777777777778,
              "#fb9f3a"
             ],
             [
              0.8888888888888888,
              "#fdca26"
             ],
             [
              1,
              "#f0f921"
             ]
            ],
            "type": "heatmapgl"
           }
          ],
          "histogram": [
           {
            "marker": {
             "pattern": {
              "fillmode": "overlay",
              "size": 10,
              "solidity": 0.2
             }
            },
            "type": "histogram"
           }
          ],
          "histogram2d": [
           {
            "colorbar": {
             "outlinewidth": 0,
             "ticks": ""
            },
            "colorscale": [
             [
              0,
              "#0d0887"
             ],
             [
              0.1111111111111111,
              "#46039f"
             ],
             [
              0.2222222222222222,
              "#7201a8"
             ],
             [
              0.3333333333333333,
              "#9c179e"
             ],
             [
              0.4444444444444444,
              "#bd3786"
             ],
             [
              0.5555555555555556,
              "#d8576b"
             ],
             [
              0.6666666666666666,
              "#ed7953"
             ],
             [
              0.7777777777777778,
              "#fb9f3a"
             ],
             [
              0.8888888888888888,
              "#fdca26"
             ],
             [
              1,
              "#f0f921"
             ]
            ],
            "type": "histogram2d"
           }
          ],
          "histogram2dcontour": [
           {
            "colorbar": {
             "outlinewidth": 0,
             "ticks": ""
            },
            "colorscale": [
             [
              0,
              "#0d0887"
             ],
             [
              0.1111111111111111,
              "#46039f"
             ],
             [
              0.2222222222222222,
              "#7201a8"
             ],
             [
              0.3333333333333333,
              "#9c179e"
             ],
             [
              0.4444444444444444,
              "#bd3786"
             ],
             [
              0.5555555555555556,
              "#d8576b"
             ],
             [
              0.6666666666666666,
              "#ed7953"
             ],
             [
              0.7777777777777778,
              "#fb9f3a"
             ],
             [
              0.8888888888888888,
              "#fdca26"
             ],
             [
              1,
              "#f0f921"
             ]
            ],
            "type": "histogram2dcontour"
           }
          ],
          "mesh3d": [
           {
            "colorbar": {
             "outlinewidth": 0,
             "ticks": ""
            },
            "type": "mesh3d"
           }
          ],
          "parcoords": [
           {
            "line": {
             "colorbar": {
              "outlinewidth": 0,
              "ticks": ""
             }
            },
            "type": "parcoords"
           }
          ],
          "pie": [
           {
            "automargin": true,
            "type": "pie"
           }
          ],
          "scatter": [
           {
            "fillpattern": {
             "fillmode": "overlay",
             "size": 10,
             "solidity": 0.2
            },
            "type": "scatter"
           }
          ],
          "scatter3d": [
           {
            "line": {
             "colorbar": {
              "outlinewidth": 0,
              "ticks": ""
             }
            },
            "marker": {
             "colorbar": {
              "outlinewidth": 0,
              "ticks": ""
             }
            },
            "type": "scatter3d"
           }
          ],
          "scattercarpet": [
           {
            "marker": {
             "colorbar": {
              "outlinewidth": 0,
              "ticks": ""
             }
            },
            "type": "scattercarpet"
           }
          ],
          "scattergeo": [
           {
            "marker": {
             "colorbar": {
              "outlinewidth": 0,
              "ticks": ""
             }
            },
            "type": "scattergeo"
           }
          ],
          "scattergl": [
           {
            "marker": {
             "colorbar": {
              "outlinewidth": 0,
              "ticks": ""
             }
            },
            "type": "scattergl"
           }
          ],
          "scattermapbox": [
           {
            "marker": {
             "colorbar": {
              "outlinewidth": 0,
              "ticks": ""
             }
            },
            "type": "scattermapbox"
           }
          ],
          "scatterpolar": [
           {
            "marker": {
             "colorbar": {
              "outlinewidth": 0,
              "ticks": ""
             }
            },
            "type": "scatterpolar"
           }
          ],
          "scatterpolargl": [
           {
            "marker": {
             "colorbar": {
              "outlinewidth": 0,
              "ticks": ""
             }
            },
            "type": "scatterpolargl"
           }
          ],
          "scatterternary": [
           {
            "marker": {
             "colorbar": {
              "outlinewidth": 0,
              "ticks": ""
             }
            },
            "type": "scatterternary"
           }
          ],
          "surface": [
           {
            "colorbar": {
             "outlinewidth": 0,
             "ticks": ""
            },
            "colorscale": [
             [
              0,
              "#0d0887"
             ],
             [
              0.1111111111111111,
              "#46039f"
             ],
             [
              0.2222222222222222,
              "#7201a8"
             ],
             [
              0.3333333333333333,
              "#9c179e"
             ],
             [
              0.4444444444444444,
              "#bd3786"
             ],
             [
              0.5555555555555556,
              "#d8576b"
             ],
             [
              0.6666666666666666,
              "#ed7953"
             ],
             [
              0.7777777777777778,
              "#fb9f3a"
             ],
             [
              0.8888888888888888,
              "#fdca26"
             ],
             [
              1,
              "#f0f921"
             ]
            ],
            "type": "surface"
           }
          ],
          "table": [
           {
            "cells": {
             "fill": {
              "color": "#EBF0F8"
             },
             "line": {
              "color": "white"
             }
            },
            "header": {
             "fill": {
              "color": "#C8D4E3"
             },
             "line": {
              "color": "white"
             }
            },
            "type": "table"
           }
          ]
         },
         "layout": {
          "annotationdefaults": {
           "arrowcolor": "#2a3f5f",
           "arrowhead": 0,
           "arrowwidth": 1
          },
          "autotypenumbers": "strict",
          "coloraxis": {
           "colorbar": {
            "outlinewidth": 0,
            "ticks": ""
           }
          },
          "colorscale": {
           "diverging": [
            [
             0,
             "#8e0152"
            ],
            [
             0.1,
             "#c51b7d"
            ],
            [
             0.2,
             "#de77ae"
            ],
            [
             0.3,
             "#f1b6da"
            ],
            [
             0.4,
             "#fde0ef"
            ],
            [
             0.5,
             "#f7f7f7"
            ],
            [
             0.6,
             "#e6f5d0"
            ],
            [
             0.7,
             "#b8e186"
            ],
            [
             0.8,
             "#7fbc41"
            ],
            [
             0.9,
             "#4d9221"
            ],
            [
             1,
             "#276419"
            ]
           ],
           "sequential": [
            [
             0,
             "#0d0887"
            ],
            [
             0.1111111111111111,
             "#46039f"
            ],
            [
             0.2222222222222222,
             "#7201a8"
            ],
            [
             0.3333333333333333,
             "#9c179e"
            ],
            [
             0.4444444444444444,
             "#bd3786"
            ],
            [
             0.5555555555555556,
             "#d8576b"
            ],
            [
             0.6666666666666666,
             "#ed7953"
            ],
            [
             0.7777777777777778,
             "#fb9f3a"
            ],
            [
             0.8888888888888888,
             "#fdca26"
            ],
            [
             1,
             "#f0f921"
            ]
           ],
           "sequentialminus": [
            [
             0,
             "#0d0887"
            ],
            [
             0.1111111111111111,
             "#46039f"
            ],
            [
             0.2222222222222222,
             "#7201a8"
            ],
            [
             0.3333333333333333,
             "#9c179e"
            ],
            [
             0.4444444444444444,
             "#bd3786"
            ],
            [
             0.5555555555555556,
             "#d8576b"
            ],
            [
             0.6666666666666666,
             "#ed7953"
            ],
            [
             0.7777777777777778,
             "#fb9f3a"
            ],
            [
             0.8888888888888888,
             "#fdca26"
            ],
            [
             1,
             "#f0f921"
            ]
           ]
          },
          "colorway": [
           "#636efa",
           "#EF553B",
           "#00cc96",
           "#ab63fa",
           "#FFA15A",
           "#19d3f3",
           "#FF6692",
           "#B6E880",
           "#FF97FF",
           "#FECB52"
          ],
          "font": {
           "color": "#2a3f5f"
          },
          "geo": {
           "bgcolor": "white",
           "lakecolor": "white",
           "landcolor": "#E5ECF6",
           "showlakes": true,
           "showland": true,
           "subunitcolor": "white"
          },
          "hoverlabel": {
           "align": "left"
          },
          "hovermode": "closest",
          "mapbox": {
           "style": "light"
          },
          "paper_bgcolor": "white",
          "plot_bgcolor": "#E5ECF6",
          "polar": {
           "angularaxis": {
            "gridcolor": "white",
            "linecolor": "white",
            "ticks": ""
           },
           "bgcolor": "#E5ECF6",
           "radialaxis": {
            "gridcolor": "white",
            "linecolor": "white",
            "ticks": ""
           }
          },
          "scene": {
           "xaxis": {
            "backgroundcolor": "#E5ECF6",
            "gridcolor": "white",
            "gridwidth": 2,
            "linecolor": "white",
            "showbackground": true,
            "ticks": "",
            "zerolinecolor": "white"
           },
           "yaxis": {
            "backgroundcolor": "#E5ECF6",
            "gridcolor": "white",
            "gridwidth": 2,
            "linecolor": "white",
            "showbackground": true,
            "ticks": "",
            "zerolinecolor": "white"
           },
           "zaxis": {
            "backgroundcolor": "#E5ECF6",
            "gridcolor": "white",
            "gridwidth": 2,
            "linecolor": "white",
            "showbackground": true,
            "ticks": "",
            "zerolinecolor": "white"
           }
          },
          "shapedefaults": {
           "line": {
            "color": "#2a3f5f"
           }
          },
          "ternary": {
           "aaxis": {
            "gridcolor": "white",
            "linecolor": "white",
            "ticks": ""
           },
           "baxis": {
            "gridcolor": "white",
            "linecolor": "white",
            "ticks": ""
           },
           "bgcolor": "#E5ECF6",
           "caxis": {
            "gridcolor": "white",
            "linecolor": "white",
            "ticks": ""
           }
          },
          "title": {
           "x": 0.05
          },
          "xaxis": {
           "automargin": true,
           "gridcolor": "white",
           "linecolor": "white",
           "ticks": "",
           "title": {
            "standoff": 15
           },
           "zerolinecolor": "white",
           "zerolinewidth": 2
          },
          "yaxis": {
           "automargin": true,
           "gridcolor": "white",
           "linecolor": "white",
           "ticks": "",
           "title": {
            "standoff": 15
           },
           "zerolinecolor": "white",
           "zerolinewidth": 2
          }
         }
        },
        "title": {
         "font": {
          "size": 20
         },
         "text": "Salary Range by Type of Data Science Position"
        },
        "xaxis": {
         "anchor": "y",
         "domain": [
          0,
          1
         ],
         "title": {
          "font": {
           "size": 14
          },
          "text": "Salary ($USD)"
         }
        },
        "yaxis": {
         "anchor": "x",
         "domain": [
          0,
          1
         ],
         "title": {
          "font": {
           "size": 14
          },
          "text": "Type of Data Science Position"
         }
        }
       }
      },
      "text/html": [
       "<div>                            <div id=\"261c7c1e-6a1c-46c1-b375-cc948a8fa7eb\" class=\"plotly-graph-div\" style=\"height:525px; width:100%;\"></div>            <script type=\"text/javascript\">                require([\"plotly\"], function(Plotly) {                    window.PLOTLYENV=window.PLOTLYENV || {};                                    if (document.getElementById(\"261c7c1e-6a1c-46c1-b375-cc948a8fa7eb\")) {                    Plotly.newPlot(                        \"261c7c1e-6a1c-46c1-b375-cc948a8fa7eb\",                        [{\"alignmentgroup\":\"True\",\"hovertemplate\":\"salary=%{x}<br>type=%{y}<extra></extra>\",\"legendgroup\":\"\",\"marker\":{\"color\":\"#ff0000\"},\"name\":\"\",\"notched\":false,\"offsetgroup\":\"\",\"orientation\":\"h\",\"showlegend\":false,\"x\":[156000.0,180000.0,500000.0,180000.0,150000.0,175000.0,153400.0,209099.0,104500.0,200000.0,209099.0,156650.0,174080.0,132906.0,142600.0,175300.0,121000.0,106000.0,229400.0,220000.0,180250.0,166000.0,158445.0,137844.0,149280.0,152000.0,112500.0,121000.0,229400.0,150000.0,186000.0,219000.0,186000.0,136644.5,136644.5,253000.0,253000.0,219000.0,253000.0,136644.5,205757.14285714287,218700.0,135200.0,285000.0,159982.5,159000.0,180000.0,158500.0,203556.0,164000.0,212000.0,186000.0,186000.0,219500.0,300000.0,138000.0,160250.0,300000.0,238000.0,188000.0,175000.0,300000.0,186000.0,135500.0,400000.0,135500.0,186000.0,176000.0,176000.0,147500.0,120000.0,124000.0,105000.0,158000.0,110000.0,129000.0,120000.0,222000.0,163333.33333333334,179875.0,196200.0,286250.0,207000.0,292511.1111111111,245000.0,192500.0,199700.0,207125.0,185000.0,257000.0,117660.0,179875.0,196200.0,174200.0,130000.0,212000.0,157175.0,174480.0,207125.0,190000.0,207000.0,196200.0,150000.0,212000.0,175000.0,186000.0,157175.0,250000.0,204000.0,207125.0,172500.0],\"x0\":\" \",\"xaxis\":\"x\",\"y\":[\"block-chain\",\"block-chain\",\"block-chain\",\"block-chain\",\"block-chain\",\"block-chain\",\"block-chain\",\"block-chain\",\"block-chain\",\"block-chain\",\"block-chain\",\"data-scientist\",\"data-scientist\",\"data-scientist\",\"data-scientist\",\"data-scientist\",\"data-scientist\",\"data-scientist\",\"data-scientist\",\"data-scientist\",\"data-scientist\",\"data-scientist\",\"data-scientist\",\"data-scientist\",\"data-scientist\",\"data-scientist\",\"data-scientist\",\"data-scientist\",\"data-scientist\",\"natural-language-processing\",\"natural-language-processing\",\"natural-language-processing\",\"natural-language-processing\",\"natural-language-processing\",\"natural-language-processing\",\"natural-language-processing\",\"natural-language-processing\",\"natural-language-processing\",\"natural-language-processing\",\"natural-language-processing\",\"reinforcement-learning\",\"reinforcement-learning\",\"reinforcement-learning\",\"reinforcement-learning\",\"reinforcement-learning\",\"reinforcement-learning\",\"reinforcement-learning\",\"reinforcement-learning\",\"reinforcement-learning\",\"reinforcement-learning\",\"reinforcement-learning\",\"reinforcement-learning\",\"reinforcement-learning\",\"reinforcement-learning\",\"neural-networks\",\"neural-networks\",\"neural-networks\",\"neural-networks\",\"neural-networks\",\"neural-networks\",\"neural-networks\",\"neural-networks\",\"neural-networks\",\"big-data-and-cloud-computing\",\"big-data-and-cloud-computing\",\"big-data-and-cloud-computing\",\"big-data-and-cloud-computing\",\"big-data-and-cloud-computing\",\"big-data-and-cloud-computing\",\"big-data-and-cloud-computing\",\"data-analyst\",\"data-analyst\",\"data-analyst\",\"data-analyst\",\"data-analyst\",\"data-analyst\",\"data-analyst\",\"machine-learning\",\"machine-learning\",\"machine-learning\",\"machine-learning\",\"machine-learning\",\"machine-learning\",\"machine-learning\",\"machine-learning\",\"machine-learning\",\"machine-learning\",\"machine-learning\",\"machine-learning\",\"machine-learning\",\"machine-learning\",\"machine-learning\",\"machine-learning\",\"machine-learning\",\"machine-learning\",\"machine-learning\",\"machine-learning\",\"machine-learning\",\"deep-learning\",\"deep-learning\",\"deep-learning\",\"deep-learning\",\"deep-learning\",\"deep-learning\",\"deep-learning\",\"deep-learning\",\"deep-learning\",\"deep-learning\",\"deep-learning\",\"deep-learning\",\"deep-learning\"],\"y0\":\" \",\"yaxis\":\"y\",\"type\":\"box\"}],                        {\"template\":{\"data\":{\"histogram2dcontour\":[{\"type\":\"histogram2dcontour\",\"colorbar\":{\"outlinewidth\":0,\"ticks\":\"\"},\"colorscale\":[[0.0,\"#0d0887\"],[0.1111111111111111,\"#46039f\"],[0.2222222222222222,\"#7201a8\"],[0.3333333333333333,\"#9c179e\"],[0.4444444444444444,\"#bd3786\"],[0.5555555555555556,\"#d8576b\"],[0.6666666666666666,\"#ed7953\"],[0.7777777777777778,\"#fb9f3a\"],[0.8888888888888888,\"#fdca26\"],[1.0,\"#f0f921\"]]}],\"choropleth\":[{\"type\":\"choropleth\",\"colorbar\":{\"outlinewidth\":0,\"ticks\":\"\"}}],\"histogram2d\":[{\"type\":\"histogram2d\",\"colorbar\":{\"outlinewidth\":0,\"ticks\":\"\"},\"colorscale\":[[0.0,\"#0d0887\"],[0.1111111111111111,\"#46039f\"],[0.2222222222222222,\"#7201a8\"],[0.3333333333333333,\"#9c179e\"],[0.4444444444444444,\"#bd3786\"],[0.5555555555555556,\"#d8576b\"],[0.6666666666666666,\"#ed7953\"],[0.7777777777777778,\"#fb9f3a\"],[0.8888888888888888,\"#fdca26\"],[1.0,\"#f0f921\"]]}],\"heatmap\":[{\"type\":\"heatmap\",\"colorbar\":{\"outlinewidth\":0,\"ticks\":\"\"},\"colorscale\":[[0.0,\"#0d0887\"],[0.1111111111111111,\"#46039f\"],[0.2222222222222222,\"#7201a8\"],[0.3333333333333333,\"#9c179e\"],[0.4444444444444444,\"#bd3786\"],[0.5555555555555556,\"#d8576b\"],[0.6666666666666666,\"#ed7953\"],[0.7777777777777778,\"#fb9f3a\"],[0.8888888888888888,\"#fdca26\"],[1.0,\"#f0f921\"]]}],\"heatmapgl\":[{\"type\":\"heatmapgl\",\"colorbar\":{\"outlinewidth\":0,\"ticks\":\"\"},\"colorscale\":[[0.0,\"#0d0887\"],[0.1111111111111111,\"#46039f\"],[0.2222222222222222,\"#7201a8\"],[0.3333333333333333,\"#9c179e\"],[0.4444444444444444,\"#bd3786\"],[0.5555555555555556,\"#d8576b\"],[0.6666666666666666,\"#ed7953\"],[0.7777777777777778,\"#fb9f3a\"],[0.8888888888888888,\"#fdca26\"],[1.0,\"#f0f921\"]]}],\"contourcarpet\":[{\"type\":\"contourcarpet\",\"colorbar\":{\"outlinewidth\":0,\"ticks\":\"\"}}],\"contour\":[{\"type\":\"contour\",\"colorbar\":{\"outlinewidth\":0,\"ticks\":\"\"},\"colorscale\":[[0.0,\"#0d0887\"],[0.1111111111111111,\"#46039f\"],[0.2222222222222222,\"#7201a8\"],[0.3333333333333333,\"#9c179e\"],[0.4444444444444444,\"#bd3786\"],[0.5555555555555556,\"#d8576b\"],[0.6666666666666666,\"#ed7953\"],[0.7777777777777778,\"#fb9f3a\"],[0.8888888888888888,\"#fdca26\"],[1.0,\"#f0f921\"]]}],\"surface\":[{\"type\":\"surface\",\"colorbar\":{\"outlinewidth\":0,\"ticks\":\"\"},\"colorscale\":[[0.0,\"#0d0887\"],[0.1111111111111111,\"#46039f\"],[0.2222222222222222,\"#7201a8\"],[0.3333333333333333,\"#9c179e\"],[0.4444444444444444,\"#bd3786\"],[0.5555555555555556,\"#d8576b\"],[0.6666666666666666,\"#ed7953\"],[0.7777777777777778,\"#fb9f3a\"],[0.8888888888888888,\"#fdca26\"],[1.0,\"#f0f921\"]]}],\"mesh3d\":[{\"type\":\"mesh3d\",\"colorbar\":{\"outlinewidth\":0,\"ticks\":\"\"}}],\"scatter\":[{\"fillpattern\":{\"fillmode\":\"overlay\",\"size\":10,\"solidity\":0.2},\"type\":\"scatter\"}],\"parcoords\":[{\"type\":\"parcoords\",\"line\":{\"colorbar\":{\"outlinewidth\":0,\"ticks\":\"\"}}}],\"scatterpolargl\":[{\"type\":\"scatterpolargl\",\"marker\":{\"colorbar\":{\"outlinewidth\":0,\"ticks\":\"\"}}}],\"bar\":[{\"error_x\":{\"color\":\"#2a3f5f\"},\"error_y\":{\"color\":\"#2a3f5f\"},\"marker\":{\"line\":{\"color\":\"#E5ECF6\",\"width\":0.5},\"pattern\":{\"fillmode\":\"overlay\",\"size\":10,\"solidity\":0.2}},\"type\":\"bar\"}],\"scattergeo\":[{\"type\":\"scattergeo\",\"marker\":{\"colorbar\":{\"outlinewidth\":0,\"ticks\":\"\"}}}],\"scatterpolar\":[{\"type\":\"scatterpolar\",\"marker\":{\"colorbar\":{\"outlinewidth\":0,\"ticks\":\"\"}}}],\"histogram\":[{\"marker\":{\"pattern\":{\"fillmode\":\"overlay\",\"size\":10,\"solidity\":0.2}},\"type\":\"histogram\"}],\"scattergl\":[{\"type\":\"scattergl\",\"marker\":{\"colorbar\":{\"outlinewidth\":0,\"ticks\":\"\"}}}],\"scatter3d\":[{\"type\":\"scatter3d\",\"line\":{\"colorbar\":{\"outlinewidth\":0,\"ticks\":\"\"}},\"marker\":{\"colorbar\":{\"outlinewidth\":0,\"ticks\":\"\"}}}],\"scattermapbox\":[{\"type\":\"scattermapbox\",\"marker\":{\"colorbar\":{\"outlinewidth\":0,\"ticks\":\"\"}}}],\"scatterternary\":[{\"type\":\"scatterternary\",\"marker\":{\"colorbar\":{\"outlinewidth\":0,\"ticks\":\"\"}}}],\"scattercarpet\":[{\"type\":\"scattercarpet\",\"marker\":{\"colorbar\":{\"outlinewidth\":0,\"ticks\":\"\"}}}],\"carpet\":[{\"aaxis\":{\"endlinecolor\":\"#2a3f5f\",\"gridcolor\":\"white\",\"linecolor\":\"white\",\"minorgridcolor\":\"white\",\"startlinecolor\":\"#2a3f5f\"},\"baxis\":{\"endlinecolor\":\"#2a3f5f\",\"gridcolor\":\"white\",\"linecolor\":\"white\",\"minorgridcolor\":\"white\",\"startlinecolor\":\"#2a3f5f\"},\"type\":\"carpet\"}],\"table\":[{\"cells\":{\"fill\":{\"color\":\"#EBF0F8\"},\"line\":{\"color\":\"white\"}},\"header\":{\"fill\":{\"color\":\"#C8D4E3\"},\"line\":{\"color\":\"white\"}},\"type\":\"table\"}],\"barpolar\":[{\"marker\":{\"line\":{\"color\":\"#E5ECF6\",\"width\":0.5},\"pattern\":{\"fillmode\":\"overlay\",\"size\":10,\"solidity\":0.2}},\"type\":\"barpolar\"}],\"pie\":[{\"automargin\":true,\"type\":\"pie\"}]},\"layout\":{\"autotypenumbers\":\"strict\",\"colorway\":[\"#636efa\",\"#EF553B\",\"#00cc96\",\"#ab63fa\",\"#FFA15A\",\"#19d3f3\",\"#FF6692\",\"#B6E880\",\"#FF97FF\",\"#FECB52\"],\"font\":{\"color\":\"#2a3f5f\"},\"hovermode\":\"closest\",\"hoverlabel\":{\"align\":\"left\"},\"paper_bgcolor\":\"white\",\"plot_bgcolor\":\"#E5ECF6\",\"polar\":{\"bgcolor\":\"#E5ECF6\",\"angularaxis\":{\"gridcolor\":\"white\",\"linecolor\":\"white\",\"ticks\":\"\"},\"radialaxis\":{\"gridcolor\":\"white\",\"linecolor\":\"white\",\"ticks\":\"\"}},\"ternary\":{\"bgcolor\":\"#E5ECF6\",\"aaxis\":{\"gridcolor\":\"white\",\"linecolor\":\"white\",\"ticks\":\"\"},\"baxis\":{\"gridcolor\":\"white\",\"linecolor\":\"white\",\"ticks\":\"\"},\"caxis\":{\"gridcolor\":\"white\",\"linecolor\":\"white\",\"ticks\":\"\"}},\"coloraxis\":{\"colorbar\":{\"outlinewidth\":0,\"ticks\":\"\"}},\"colorscale\":{\"sequential\":[[0.0,\"#0d0887\"],[0.1111111111111111,\"#46039f\"],[0.2222222222222222,\"#7201a8\"],[0.3333333333333333,\"#9c179e\"],[0.4444444444444444,\"#bd3786\"],[0.5555555555555556,\"#d8576b\"],[0.6666666666666666,\"#ed7953\"],[0.7777777777777778,\"#fb9f3a\"],[0.8888888888888888,\"#fdca26\"],[1.0,\"#f0f921\"]],\"sequentialminus\":[[0.0,\"#0d0887\"],[0.1111111111111111,\"#46039f\"],[0.2222222222222222,\"#7201a8\"],[0.3333333333333333,\"#9c179e\"],[0.4444444444444444,\"#bd3786\"],[0.5555555555555556,\"#d8576b\"],[0.6666666666666666,\"#ed7953\"],[0.7777777777777778,\"#fb9f3a\"],[0.8888888888888888,\"#fdca26\"],[1.0,\"#f0f921\"]],\"diverging\":[[0,\"#8e0152\"],[0.1,\"#c51b7d\"],[0.2,\"#de77ae\"],[0.3,\"#f1b6da\"],[0.4,\"#fde0ef\"],[0.5,\"#f7f7f7\"],[0.6,\"#e6f5d0\"],[0.7,\"#b8e186\"],[0.8,\"#7fbc41\"],[0.9,\"#4d9221\"],[1,\"#276419\"]]},\"xaxis\":{\"gridcolor\":\"white\",\"linecolor\":\"white\",\"ticks\":\"\",\"title\":{\"standoff\":15},\"zerolinecolor\":\"white\",\"automargin\":true,\"zerolinewidth\":2},\"yaxis\":{\"gridcolor\":\"white\",\"linecolor\":\"white\",\"ticks\":\"\",\"title\":{\"standoff\":15},\"zerolinecolor\":\"white\",\"automargin\":true,\"zerolinewidth\":2},\"scene\":{\"xaxis\":{\"backgroundcolor\":\"#E5ECF6\",\"gridcolor\":\"white\",\"linecolor\":\"white\",\"showbackground\":true,\"ticks\":\"\",\"zerolinecolor\":\"white\",\"gridwidth\":2},\"yaxis\":{\"backgroundcolor\":\"#E5ECF6\",\"gridcolor\":\"white\",\"linecolor\":\"white\",\"showbackground\":true,\"ticks\":\"\",\"zerolinecolor\":\"white\",\"gridwidth\":2},\"zaxis\":{\"backgroundcolor\":\"#E5ECF6\",\"gridcolor\":\"white\",\"linecolor\":\"white\",\"showbackground\":true,\"ticks\":\"\",\"zerolinecolor\":\"white\",\"gridwidth\":2}},\"shapedefaults\":{\"line\":{\"color\":\"#2a3f5f\"}},\"annotationdefaults\":{\"arrowcolor\":\"#2a3f5f\",\"arrowhead\":0,\"arrowwidth\":1},\"geo\":{\"bgcolor\":\"white\",\"landcolor\":\"#E5ECF6\",\"subunitcolor\":\"white\",\"showland\":true,\"showlakes\":true,\"lakecolor\":\"white\"},\"title\":{\"x\":0.05},\"mapbox\":{\"style\":\"light\"}}},\"xaxis\":{\"anchor\":\"y\",\"domain\":[0.0,1.0],\"title\":{\"text\":\"Salary ($USD)\",\"font\":{\"size\":14}}},\"yaxis\":{\"anchor\":\"x\",\"domain\":[0.0,1.0],\"title\":{\"text\":\"Type of Data Science Position\",\"font\":{\"size\":14}}},\"legend\":{\"tracegroupgap\":0},\"title\":{\"text\":\"Salary Range by Type of Data Science Position\",\"font\":{\"size\":20}},\"boxmode\":\"group\",\"font\":{\"size\":12},\"plot_bgcolor\":\"#F8F8F8\",\"paper_bgcolor\":\"#F8F8F8\"},                        {\"responsive\": true}                    ).then(function(){\n",
       "                            \n",
       "var gd = document.getElementById('261c7c1e-6a1c-46c1-b375-cc948a8fa7eb');\n",
       "var x = new MutationObserver(function (mutations, observer) {{\n",
       "        var display = window.getComputedStyle(gd).display;\n",
       "        if (!display || display === 'none') {{\n",
       "            console.log([gd, 'removed!']);\n",
       "            Plotly.purge(gd);\n",
       "            observer.disconnect();\n",
       "        }}\n",
       "}});\n",
       "\n",
       "// Listen for the removal of the full notebook cells\n",
       "var notebookContainer = gd.closest('#notebook-container');\n",
       "if (notebookContainer) {{\n",
       "    x.observe(notebookContainer, {childList: true});\n",
       "}}\n",
       "\n",
       "// Listen for the clearing of the current output cell\n",
       "var outputEl = gd.closest('.output');\n",
       "if (outputEl) {{\n",
       "    x.observe(outputEl, {childList: true});\n",
       "}}\n",
       "\n",
       "                        })                };                });            </script>        </div>"
      ]
     },
     "metadata": {},
     "output_type": "display_data"
    }
   ],
   "source": [
    "import plotly.express as px\n",
    "\n",
    "fig = px.box(salary_by_types, y=\"type\", x=\"salary\",\n",
    "             title=\"Salary Range by Type of Data Science Position\",\n",
    "             color_discrete_sequence=[\"#ff0000\", \"#ff6600\", \"#ffcc00\", \"#f6d55c\", \"#ffe680\"])\n",
    "\n",
    "fig.update_layout(\n",
    "    plot_bgcolor=\"#F8F8F8\",  # change background color\n",
    "    paper_bgcolor=\"#F8F8F8\",  # change background color\n",
    "    font=dict(\n",
    "        size=12,  # change font size\n",
    "    ),\n",
    "    title=dict(\n",
    "        font=dict(\n",
    "            size=20,  # change font size\n",
    "        )\n",
    "    ),\n",
    "    xaxis=dict(\n",
    "        title=\"Salary ($USD)\",  # change x-axis title\n",
    "        titlefont=dict(\n",
    "            size=14,  # change font size\n",
    "        ),\n",
    "    ),\n",
    "    yaxis=dict(\n",
    "        title=\"Type of Data Science Position\",  # change y-axis title\n",
    "        titlefont=dict(\n",
    "            size=14,  # change font size\n",
    "        ),\n",
    "    ),\n",
    ")\n",
    "fig.show()\n"
   ]
  },
  {
   "cell_type": "code",
   "execution_count": 31,
   "metadata": {},
   "outputs": [],
   "source": [
    "fig.write_html(\"../images/boxplot.html\")"
   ]
  },
  {
   "cell_type": "code",
   "execution_count": 32,
   "metadata": {},
   "outputs": [
    {
     "data": {
      "text/html": [
       "<div>\n",
       "<style scoped>\n",
       "    .dataframe tbody tr th:only-of-type {\n",
       "        vertical-align: middle;\n",
       "    }\n",
       "\n",
       "    .dataframe tbody tr th {\n",
       "        vertical-align: top;\n",
       "    }\n",
       "\n",
       "    .dataframe thead th {\n",
       "        text-align: right;\n",
       "    }\n",
       "</style>\n",
       "<table border=\"1\" class=\"dataframe\">\n",
       "  <thead>\n",
       "    <tr style=\"text-align: right;\">\n",
       "      <th></th>\n",
       "      <th>type</th>\n",
       "      <th>salary</th>\n",
       "      <th>job_id</th>\n",
       "      <th>description</th>\n",
       "    </tr>\n",
       "  </thead>\n",
       "  <tbody>\n",
       "    <tr>\n",
       "      <th>29</th>\n",
       "      <td>natural-language-processing</td>\n",
       "      <td>150000.0</td>\n",
       "      <td>eyJqb2JfdGl0bGUiOiJTZW5pb3IgQUkvTUwgT3BzIEVuZ2...</td>\n",
       "      <td>About the role\\n\\nWe are looking for a talente...</td>\n",
       "    </tr>\n",
       "    <tr>\n",
       "      <th>30</th>\n",
       "      <td>natural-language-processing</td>\n",
       "      <td>186000.0</td>\n",
       "      <td>eyJqb2JfdGl0bGUiOiJJU0UsIElucHV0IEV4cGVyaWVuY2...</td>\n",
       "      <td>Summary\\nPosted: Apr 13, 2023\\n...\\nRole Numbe...</td>\n",
       "    </tr>\n",
       "    <tr>\n",
       "      <th>31</th>\n",
       "      <td>natural-language-processing</td>\n",
       "      <td>219000.0</td>\n",
       "      <td>eyJqb2JfdGl0bGUiOiJTZW5pb3IgTmF0dXJhbCBMYW5ndW...</td>\n",
       "      <td>Description\\n\\nLeidos has a career opening for...</td>\n",
       "    </tr>\n",
       "    <tr>\n",
       "      <th>32</th>\n",
       "      <td>natural-language-processing</td>\n",
       "      <td>186000.0</td>\n",
       "      <td>eyJqb2JfdGl0bGUiOiJJU0UsIElucHV0IEV4cGVyaWVuY2...</td>\n",
       "      <td>Summary\\nPosted: Apr 13, 2023\\n...\\nRole Numbe...</td>\n",
       "    </tr>\n",
       "    <tr>\n",
       "      <th>33</th>\n",
       "      <td>natural-language-processing</td>\n",
       "      <td>136644.5</td>\n",
       "      <td>eyJqb2JfdGl0bGUiOiJSZXNlYXJjaCBBc3NvY2lhdGUgIG...</td>\n",
       "      <td>Research Associate in Natural Language Process...</td>\n",
       "    </tr>\n",
       "    <tr>\n",
       "      <th>...</th>\n",
       "      <td>...</td>\n",
       "      <td>...</td>\n",
       "      <td>...</td>\n",
       "      <td>...</td>\n",
       "    </tr>\n",
       "    <tr>\n",
       "      <th>106</th>\n",
       "      <td>deep-learning</td>\n",
       "      <td>157175.0</td>\n",
       "      <td>eyJqb2JfdGl0bGUiOiJBL0FJIE1hY2hpbmUgTGVhcm5pbm...</td>\n",
       "      <td>Description: The coolest jobs on this planet.....</td>\n",
       "    </tr>\n",
       "    <tr>\n",
       "      <th>107</th>\n",
       "      <td>deep-learning</td>\n",
       "      <td>250000.0</td>\n",
       "      <td>eyJqb2JfdGl0bGUiOiJBSSBTY2llbnRpc3QsIERlZXAgTG...</td>\n",
       "      <td>Absci is a generative AI drug creation company...</td>\n",
       "    </tr>\n",
       "    <tr>\n",
       "      <th>108</th>\n",
       "      <td>deep-learning</td>\n",
       "      <td>204000.0</td>\n",
       "      <td>eyJqb2JfdGl0bGUiOiJTdGFmZiBNYWNoaW5lIExlYXJuaW...</td>\n",
       "      <td>Eightfold.ai was founded with a vision to solv...</td>\n",
       "    </tr>\n",
       "    <tr>\n",
       "      <th>109</th>\n",
       "      <td>deep-learning</td>\n",
       "      <td>207125.0</td>\n",
       "      <td>eyJqb2JfdGl0bGUiOiJTb2x1dGlvbnMgQXJjaGl0ZWN0LC...</td>\n",
       "      <td>Do you want to be part of the team that brings...</td>\n",
       "    </tr>\n",
       "    <tr>\n",
       "      <th>110</th>\n",
       "      <td>deep-learning</td>\n",
       "      <td>172500.0</td>\n",
       "      <td>eyJqb2JfdGl0bGUiOiJNYWNoaW5lIExlYXJuaW5nIEVuZ2...</td>\n",
       "      <td>We’re not like others, and neither are you. Un...</td>\n",
       "    </tr>\n",
       "  </tbody>\n",
       "</table>\n",
       "<p>68 rows × 4 columns</p>\n",
       "</div>"
      ],
      "text/plain": [
       "                            type    salary  \\\n",
       "29   natural-language-processing  150000.0   \n",
       "30   natural-language-processing  186000.0   \n",
       "31   natural-language-processing  219000.0   \n",
       "32   natural-language-processing  186000.0   \n",
       "33   natural-language-processing  136644.5   \n",
       "..                           ...       ...   \n",
       "106                deep-learning  157175.0   \n",
       "107                deep-learning  250000.0   \n",
       "108                deep-learning  204000.0   \n",
       "109                deep-learning  207125.0   \n",
       "110                deep-learning  172500.0   \n",
       "\n",
       "                                                job_id  \\\n",
       "29   eyJqb2JfdGl0bGUiOiJTZW5pb3IgQUkvTUwgT3BzIEVuZ2...   \n",
       "30   eyJqb2JfdGl0bGUiOiJJU0UsIElucHV0IEV4cGVyaWVuY2...   \n",
       "31   eyJqb2JfdGl0bGUiOiJTZW5pb3IgTmF0dXJhbCBMYW5ndW...   \n",
       "32   eyJqb2JfdGl0bGUiOiJJU0UsIElucHV0IEV4cGVyaWVuY2...   \n",
       "33   eyJqb2JfdGl0bGUiOiJSZXNlYXJjaCBBc3NvY2lhdGUgIG...   \n",
       "..                                                 ...   \n",
       "106  eyJqb2JfdGl0bGUiOiJBL0FJIE1hY2hpbmUgTGVhcm5pbm...   \n",
       "107  eyJqb2JfdGl0bGUiOiJBSSBTY2llbnRpc3QsIERlZXAgTG...   \n",
       "108  eyJqb2JfdGl0bGUiOiJTdGFmZiBNYWNoaW5lIExlYXJuaW...   \n",
       "109  eyJqb2JfdGl0bGUiOiJTb2x1dGlvbnMgQXJjaGl0ZWN0LC...   \n",
       "110  eyJqb2JfdGl0bGUiOiJNYWNoaW5lIExlYXJuaW5nIEVuZ2...   \n",
       "\n",
       "                                           description  \n",
       "29   About the role\\n\\nWe are looking for a talente...  \n",
       "30   Summary\\nPosted: Apr 13, 2023\\n...\\nRole Numbe...  \n",
       "31   Description\\n\\nLeidos has a career opening for...  \n",
       "32   Summary\\nPosted: Apr 13, 2023\\n...\\nRole Numbe...  \n",
       "33   Research Associate in Natural Language Process...  \n",
       "..                                                 ...  \n",
       "106  Description: The coolest jobs on this planet.....  \n",
       "107  Absci is a generative AI drug creation company...  \n",
       "108  Eightfold.ai was founded with a vision to solv...  \n",
       "109  Do you want to be part of the team that brings...  \n",
       "110  We’re not like others, and neither are you. Un...  \n",
       "\n",
       "[68 rows x 4 columns]"
      ]
     },
     "execution_count": 32,
     "metadata": {},
     "output_type": "execute_result"
    }
   ],
   "source": [
    "salary_on_ml = salary_by_types[(salary_by_types['type'] == 'deep-learning') | (salary_by_types['type'] == 'natural-language-processing') | (salary_by_types['type'] == 'neural-networks')| (salary_by_types['type'] == 'machine-learning')| (salary_by_types['type'] == 'reinforcement-learning')]\n",
    "salary_on_ml"
   ]
  },
  {
   "attachments": {},
   "cell_type": "markdown",
   "metadata": {},
   "source": [
    "## Clean"
   ]
  },
  {
   "cell_type": "code",
   "execution_count": 33,
   "metadata": {},
   "outputs": [],
   "source": [
    "import nltk\n",
    "from nltk.corpus import stopwords\n",
    "from nltk.stem import PorterStemmer\n",
    "from nltk.stem import WordNetLemmatizer\n",
    "stop_words = set(stopwords.words(\"english\"))"
   ]
  },
  {
   "cell_type": "code",
   "execution_count": 34,
   "metadata": {},
   "outputs": [
    {
     "name": "stderr",
     "output_type": "stream",
     "text": [
      "/var/folders/h0/sq_brb3d0_lfvtk4fhlbrck00000gn/T/ipykernel_47150/3596373963.py:13: SettingWithCopyWarning:\n",
      "\n",
      "\n",
      "A value is trying to be set on a copy of a slice from a DataFrame.\n",
      "Try using .loc[row_indexer,col_indexer] = value instead\n",
      "\n",
      "See the caveats in the documentation: https://pandas.pydata.org/pandas-docs/stable/user_guide/indexing.html#returning-a-view-versus-a-copy\n",
      "\n"
     ]
    }
   ],
   "source": [
    "import re\n",
    "import string\n",
    "def clean(text):\n",
    " text1 = re.sub(r'#\\w+ ?', \"\", str(text)) #Removes hashtags\n",
    " text1 = re.sub(r'@\\w+ ?',\"\",text1) #Removes usernames\n",
    " text1 = re.sub(r\"(?:\\@|http?\\://|https?\\://|www)\\S+\", \"\", text1) #Removes links\n",
    " text1 = re.sub('[0-9]+', \"\", text1) #Removes numbers\n",
    " text1 = \" \".join(text1.split())\n",
    " text1 = \"\".join([char for char in text1 if char not in string.punctuation]) #Removes punctuations\n",
    " text1 = text1.replace('\\n',\"\") #Removes escape sequences\n",
    " return text1\n",
    "\n",
    "salary_on_ml['description_clean'] = salary_on_ml['description'].apply(lambda x:clean(x))"
   ]
  },
  {
   "cell_type": "code",
   "execution_count": 35,
   "metadata": {},
   "outputs": [
    {
     "name": "stderr",
     "output_type": "stream",
     "text": [
      "/var/folders/h0/sq_brb3d0_lfvtk4fhlbrck00000gn/T/ipykernel_47150/1791135948.py:8: SettingWithCopyWarning:\n",
      "\n",
      "\n",
      "A value is trying to be set on a copy of a slice from a DataFrame.\n",
      "Try using .loc[row_indexer,col_indexer] = value instead\n",
      "\n",
      "See the caveats in the documentation: https://pandas.pydata.org/pandas-docs/stable/user_guide/indexing.html#returning-a-view-versus-a-copy\n",
      "\n"
     ]
    },
    {
     "data": {
      "text/html": [
       "<div>\n",
       "<style scoped>\n",
       "    .dataframe tbody tr th:only-of-type {\n",
       "        vertical-align: middle;\n",
       "    }\n",
       "\n",
       "    .dataframe tbody tr th {\n",
       "        vertical-align: top;\n",
       "    }\n",
       "\n",
       "    .dataframe thead th {\n",
       "        text-align: right;\n",
       "    }\n",
       "</style>\n",
       "<table border=\"1\" class=\"dataframe\">\n",
       "  <thead>\n",
       "    <tr style=\"text-align: right;\">\n",
       "      <th></th>\n",
       "      <th>type</th>\n",
       "      <th>salary</th>\n",
       "      <th>job_id</th>\n",
       "      <th>description</th>\n",
       "      <th>description_clean</th>\n",
       "    </tr>\n",
       "  </thead>\n",
       "  <tbody>\n",
       "    <tr>\n",
       "      <th>29</th>\n",
       "      <td>natural-language-processing</td>\n",
       "      <td>150000.0</td>\n",
       "      <td>eyJqb2JfdGl0bGUiOiJTZW5pb3IgQUkvTUwgT3BzIEVuZ2...</td>\n",
       "      <td>About the role\\n\\nWe are looking for a talente...</td>\n",
       "      <td>[About, role, We, looking, talented, AIML, Ops...</td>\n",
       "    </tr>\n",
       "    <tr>\n",
       "      <th>30</th>\n",
       "      <td>natural-language-processing</td>\n",
       "      <td>186000.0</td>\n",
       "      <td>eyJqb2JfdGl0bGUiOiJJU0UsIElucHV0IEV4cGVyaWVuY2...</td>\n",
       "      <td>Summary\\nPosted: Apr 13, 2023\\n...\\nRole Numbe...</td>\n",
       "      <td>[Summary, Posted, Apr, Role, Number, Are, inte...</td>\n",
       "    </tr>\n",
       "    <tr>\n",
       "      <th>31</th>\n",
       "      <td>natural-language-processing</td>\n",
       "      <td>219000.0</td>\n",
       "      <td>eyJqb2JfdGl0bGUiOiJTZW5pb3IgTmF0dXJhbCBMYW5ndW...</td>\n",
       "      <td>Description\\n\\nLeidos has a career opening for...</td>\n",
       "      <td>[Description, Leidos, career, opening, Senior,...</td>\n",
       "    </tr>\n",
       "    <tr>\n",
       "      <th>32</th>\n",
       "      <td>natural-language-processing</td>\n",
       "      <td>186000.0</td>\n",
       "      <td>eyJqb2JfdGl0bGUiOiJJU0UsIElucHV0IEV4cGVyaWVuY2...</td>\n",
       "      <td>Summary\\nPosted: Apr 13, 2023\\n...\\nRole Numbe...</td>\n",
       "      <td>[Summary, Posted, Apr, Role, Number, Are, inte...</td>\n",
       "    </tr>\n",
       "    <tr>\n",
       "      <th>33</th>\n",
       "      <td>natural-language-processing</td>\n",
       "      <td>136644.5</td>\n",
       "      <td>eyJqb2JfdGl0bGUiOiJSZXNlYXJjaCBBc3NvY2lhdGUgIG...</td>\n",
       "      <td>Research Associate in Natural Language Process...</td>\n",
       "      <td>[Research, Associate, Natural, Language, Proce...</td>\n",
       "    </tr>\n",
       "  </tbody>\n",
       "</table>\n",
       "</div>"
      ],
      "text/plain": [
       "                           type    salary  \\\n",
       "29  natural-language-processing  150000.0   \n",
       "30  natural-language-processing  186000.0   \n",
       "31  natural-language-processing  219000.0   \n",
       "32  natural-language-processing  186000.0   \n",
       "33  natural-language-processing  136644.5   \n",
       "\n",
       "                                               job_id  \\\n",
       "29  eyJqb2JfdGl0bGUiOiJTZW5pb3IgQUkvTUwgT3BzIEVuZ2...   \n",
       "30  eyJqb2JfdGl0bGUiOiJJU0UsIElucHV0IEV4cGVyaWVuY2...   \n",
       "31  eyJqb2JfdGl0bGUiOiJTZW5pb3IgTmF0dXJhbCBMYW5ndW...   \n",
       "32  eyJqb2JfdGl0bGUiOiJJU0UsIElucHV0IEV4cGVyaWVuY2...   \n",
       "33  eyJqb2JfdGl0bGUiOiJSZXNlYXJjaCBBc3NvY2lhdGUgIG...   \n",
       "\n",
       "                                          description  \\\n",
       "29  About the role\\n\\nWe are looking for a talente...   \n",
       "30  Summary\\nPosted: Apr 13, 2023\\n...\\nRole Numbe...   \n",
       "31  Description\\n\\nLeidos has a career opening for...   \n",
       "32  Summary\\nPosted: Apr 13, 2023\\n...\\nRole Numbe...   \n",
       "33  Research Associate in Natural Language Process...   \n",
       "\n",
       "                                    description_clean  \n",
       "29  [About, role, We, looking, talented, AIML, Ops...  \n",
       "30  [Summary, Posted, Apr, Role, Number, Are, inte...  \n",
       "31  [Description, Leidos, career, opening, Senior,...  \n",
       "32  [Summary, Posted, Apr, Role, Number, Are, inte...  \n",
       "33  [Research, Associate, Natural, Language, Proce...  "
      ]
     },
     "execution_count": 35,
     "metadata": {},
     "output_type": "execute_result"
    }
   ],
   "source": [
    "def Clean_Words(text):\n",
    " text1 = re.split('\\W+', text) #Tokenization\n",
    " text1 = [word for word in text1 if word not in stop_words] #removing stop words\n",
    " #text1 = [PorterStemmer().stem(word) for word in text1]#removing suffixes\n",
    " text1 = [WordNetLemmatizer().lemmatize(word) for word in text1]#Lemmatization\n",
    " return text1\n",
    "\n",
    "salary_on_ml['description_clean'] = salary_on_ml['description_clean'].apply(lambda x:Clean_Words(x))\n",
    "\n",
    "salary_on_ml.head()"
   ]
  },
  {
   "cell_type": "code",
   "execution_count": 36,
   "metadata": {},
   "outputs": [
    {
     "name": "stderr",
     "output_type": "stream",
     "text": [
      "/var/folders/h0/sq_brb3d0_lfvtk4fhlbrck00000gn/T/ipykernel_47150/1241240252.py:11: SettingWithCopyWarning:\n",
      "\n",
      "\n",
      "A value is trying to be set on a copy of a slice from a DataFrame.\n",
      "Try using .loc[row_indexer,col_indexer] = value instead\n",
      "\n",
      "See the caveats in the documentation: https://pandas.pydata.org/pandas-docs/stable/user_guide/indexing.html#returning-a-view-versus-a-copy\n",
      "\n"
     ]
    },
    {
     "data": {
      "text/html": [
       "<div>\n",
       "<style scoped>\n",
       "    .dataframe tbody tr th:only-of-type {\n",
       "        vertical-align: middle;\n",
       "    }\n",
       "\n",
       "    .dataframe tbody tr th {\n",
       "        vertical-align: top;\n",
       "    }\n",
       "\n",
       "    .dataframe thead th {\n",
       "        text-align: right;\n",
       "    }\n",
       "</style>\n",
       "<table border=\"1\" class=\"dataframe\">\n",
       "  <thead>\n",
       "    <tr style=\"text-align: right;\">\n",
       "      <th></th>\n",
       "      <th>type</th>\n",
       "      <th>salary</th>\n",
       "      <th>job_id</th>\n",
       "      <th>description</th>\n",
       "      <th>description_clean</th>\n",
       "    </tr>\n",
       "  </thead>\n",
       "  <tbody>\n",
       "    <tr>\n",
       "      <th>29</th>\n",
       "      <td>natural-language-processing</td>\n",
       "      <td>150000.0</td>\n",
       "      <td>eyJqb2JfdGl0bGUiOiJTZW5pb3IgQUkvTUwgT3BzIEVuZ2...</td>\n",
       "      <td>About the role\\n\\nWe are looking for a talente...</td>\n",
       "      <td>About role We looking talented AIML Ops engine...</td>\n",
       "    </tr>\n",
       "    <tr>\n",
       "      <th>30</th>\n",
       "      <td>natural-language-processing</td>\n",
       "      <td>186000.0</td>\n",
       "      <td>eyJqb2JfdGl0bGUiOiJJU0UsIElucHV0IEV4cGVyaWVuY2...</td>\n",
       "      <td>Summary\\nPosted: Apr 13, 2023\\n...\\nRole Numbe...</td>\n",
       "      <td>Summary Posted Apr Role Number Are interested ...</td>\n",
       "    </tr>\n",
       "    <tr>\n",
       "      <th>31</th>\n",
       "      <td>natural-language-processing</td>\n",
       "      <td>219000.0</td>\n",
       "      <td>eyJqb2JfdGl0bGUiOiJTZW5pb3IgTmF0dXJhbCBMYW5ndW...</td>\n",
       "      <td>Description\\n\\nLeidos has a career opening for...</td>\n",
       "      <td>Description Leidos career opening Senior Natur...</td>\n",
       "    </tr>\n",
       "    <tr>\n",
       "      <th>32</th>\n",
       "      <td>natural-language-processing</td>\n",
       "      <td>186000.0</td>\n",
       "      <td>eyJqb2JfdGl0bGUiOiJJU0UsIElucHV0IEV4cGVyaWVuY2...</td>\n",
       "      <td>Summary\\nPosted: Apr 13, 2023\\n...\\nRole Numbe...</td>\n",
       "      <td>Summary Posted Apr Role Number Are interested ...</td>\n",
       "    </tr>\n",
       "    <tr>\n",
       "      <th>33</th>\n",
       "      <td>natural-language-processing</td>\n",
       "      <td>136644.5</td>\n",
       "      <td>eyJqb2JfdGl0bGUiOiJSZXNlYXJjaCBBc3NvY2lhdGUgIG...</td>\n",
       "      <td>Research Associate in Natural Language Process...</td>\n",
       "      <td>Research Associate Natural Language Processing...</td>\n",
       "    </tr>\n",
       "  </tbody>\n",
       "</table>\n",
       "</div>"
      ],
      "text/plain": [
       "                           type    salary  \\\n",
       "29  natural-language-processing  150000.0   \n",
       "30  natural-language-processing  186000.0   \n",
       "31  natural-language-processing  219000.0   \n",
       "32  natural-language-processing  186000.0   \n",
       "33  natural-language-processing  136644.5   \n",
       "\n",
       "                                               job_id  \\\n",
       "29  eyJqb2JfdGl0bGUiOiJTZW5pb3IgQUkvTUwgT3BzIEVuZ2...   \n",
       "30  eyJqb2JfdGl0bGUiOiJJU0UsIElucHV0IEV4cGVyaWVuY2...   \n",
       "31  eyJqb2JfdGl0bGUiOiJTZW5pb3IgTmF0dXJhbCBMYW5ndW...   \n",
       "32  eyJqb2JfdGl0bGUiOiJJU0UsIElucHV0IEV4cGVyaWVuY2...   \n",
       "33  eyJqb2JfdGl0bGUiOiJSZXNlYXJjaCBBc3NvY2lhdGUgIG...   \n",
       "\n",
       "                                          description  \\\n",
       "29  About the role\\n\\nWe are looking for a talente...   \n",
       "30  Summary\\nPosted: Apr 13, 2023\\n...\\nRole Numbe...   \n",
       "31  Description\\n\\nLeidos has a career opening for...   \n",
       "32  Summary\\nPosted: Apr 13, 2023\\n...\\nRole Numbe...   \n",
       "33  Research Associate in Natural Language Process...   \n",
       "\n",
       "                                    description_clean  \n",
       "29  About role We looking talented AIML Ops engine...  \n",
       "30  Summary Posted Apr Role Number Are interested ...  \n",
       "31  Description Leidos career opening Senior Natur...  \n",
       "32  Summary Posted Apr Role Number Are interested ...  \n",
       "33  Research Associate Natural Language Processing...  "
      ]
     },
     "execution_count": 36,
     "metadata": {},
     "output_type": "execute_result"
    }
   ],
   "source": [
    "def clean(text):\n",
    " text1 = re.sub(r'#\\w+ ?', \"\", str(text)) #Removes hashtags\n",
    " text1 = re.sub(r'@\\w+ ?',\"\",text1) #Removes usernames\n",
    " text1 = re.sub(r\"(?:\\@|http?\\://|https?\\://|www)\\S+\", \"\", text1) #Removes links\n",
    " text1 = re.sub('[0-9]+', \"\", text1) #Removes numbers\n",
    " text1 = \" \".join(text1.split())\n",
    " text1 = \"\".join([char for char in text1 if char not in string.punctuation]) #Removes punctuations\n",
    " text1 = text1.replace('\\n',\"\") #Removes escape sequences\n",
    " return text1\n",
    "\n",
    "salary_on_ml['description_clean'] = salary_on_ml['description_clean'].apply(lambda x:clean(x))\n",
    "salary_on_ml.head()"
   ]
  },
  {
   "cell_type": "code",
   "execution_count": 37,
   "metadata": {},
   "outputs": [
    {
     "name": "stderr",
     "output_type": "stream",
     "text": [
      "/var/folders/h0/sq_brb3d0_lfvtk4fhlbrck00000gn/T/ipykernel_47150/1205307167.py:1: SettingWithCopyWarning:\n",
      "\n",
      "\n",
      "A value is trying to be set on a copy of a slice from a DataFrame\n",
      "\n",
      "See the caveats in the documentation: https://pandas.pydata.org/pandas-docs/stable/user_guide/indexing.html#returning-a-view-versus-a-copy\n",
      "\n"
     ]
    }
   ],
   "source": [
    "salary_on_ml.fillna('NA', inplace=True)\n",
    "salary_on_ml = salary_on_ml.dropna(subset=['description_clean'])\n",
    "salary_on_ml = salary_on_ml[salary_on_ml['description_clean'] != 'nan']"
   ]
  },
  {
   "cell_type": "code",
   "execution_count": 38,
   "metadata": {},
   "outputs": [
    {
     "data": {
      "image/png": "[encoded data removed]",
      "text/plain": [
       "<Figure size 640x480 with 1 Axes>"
      ]
     },
     "metadata": {},
     "output_type": "display_data"
    }
   ],
   "source": [
    "import matplotlib.pyplot as plt\n",
    "from wordcloud import WordCloud\n",
    "\n",
    "plt.style.use('fast')\n",
    "description_clean = \" \".join(text for text in salary_on_ml['description_clean'])\n",
    "wc = WordCloud(width = 1200, height = 600,background_color='white', colormap='YlOrRd', collocations=False).generate(description_clean)\n",
    "plt.title('Job Description', fontsize=15)\n",
    "plt.imshow(wc)\n",
    "\n",
    "plt.axis('off')\n",
    "\n",
    "plt.savefig('../images/wordcloud.png', dpi=300)\n",
    "plt.show()\n"
   ]
  },
  {
   "cell_type": "code",
   "execution_count": 39,
   "metadata": {},
   "outputs": [
    {
     "data": {
      "text/plain": [
       "[('learning', 375),\n",
       " ('team', 263),\n",
       " ('experience', 263),\n",
       " ('machine', 249),\n",
       " ('Experience', 220),\n",
       " ('work', 218),\n",
       " ('data', 217),\n",
       " ('We', 215),\n",
       " ('Learning', 187),\n",
       " ('model', 186),\n",
       " ('The', 164),\n",
       " ('including', 152),\n",
       " ('Machine', 143),\n",
       " ('opportunity', 142),\n",
       " ('range', 142),\n",
       " ('skill', 135),\n",
       " ('AI', 133),\n",
       " ('ML', 131),\n",
       " ('system', 129),\n",
       " ('employee', 126),\n",
       " ('benefit', 124),\n",
       " ('research', 121),\n",
       " ('role', 120),\n",
       " ('You', 120),\n",
       " ('technology', 118),\n",
       " ('Apple', 118),\n",
       " ('position', 116),\n",
       " ('product', 114),\n",
       " ('status', 99),\n",
       " ('world', 99),\n",
       " ('deep', 98),\n",
       " ('software', 95),\n",
       " ('This', 94),\n",
       " ('salary', 93),\n",
       " ('u', 92),\n",
       " ('problem', 90),\n",
       " ('solution', 89),\n",
       " ('new', 88),\n",
       " ('engineering', 88),\n",
       " ('building', 84)]"
      ]
     },
     "execution_count": 39,
     "metadata": {},
     "output_type": "execute_result"
    }
   ],
   "source": [
    "from collections import Counter\n",
    "\n",
    "plt.style.use('fast')\n",
    "\n",
    "# Generate word frequencies\n",
    "word_counts = Counter(description_clean.split())\n",
    "top_words = word_counts.most_common(40)\n",
    "top_words"
   ]
  },
  {
   "cell_type": "code",
   "execution_count": null,
   "metadata": {},
   "outputs": [],
   "source": []
  }
 ],
 "metadata": {
  "kernelspec": {
   "display_name": "base",
   "language": "python",
   "name": "python3"
  },
  "language_info": {
   "codemirror_mode": {
    "name": "ipython",
    "version": 3
   },
   "file_extension": ".py",
   "mimetype": "text/x-python",
   "name": "python",
   "nbconvert_exporter": "python",
   "pygments_lexer": "ipython3",
   "version": "3.10.8"
  },
  "orig_nbformat": 4
 },
 "nbformat": 4,
 "nbformat_minor": 2
}
