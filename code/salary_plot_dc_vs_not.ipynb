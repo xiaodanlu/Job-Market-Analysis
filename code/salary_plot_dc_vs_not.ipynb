{
 "cells": [
  {
   "cell_type": "code",
   "execution_count": 15,
   "metadata": {},
   "outputs": [],
   "source": [
    "import pandas as pd\n",
    "data = pd.read_csv(\"../dataset/salary_not_in_dc.csv\")\n",
    "data2 = pd.read_csv(\"../dataset/salary_in_dc.csv\")\n"
   ]
  },
  {
   "attachments": {},
   "cell_type": "markdown",
   "metadata": {},
   "source": [
    "## combine two dataset"
   ]
  },
  {
   "cell_type": "code",
   "execution_count": 16,
   "metadata": {},
   "outputs": [],
   "source": [
    "combined_dataset = pd.concat([data, data2], ignore_index=True)"
   ]
  },
  {
   "attachments": {},
   "cell_type": "markdown",
   "metadata": {},
   "source": [
    "## subset and clean"
   ]
  },
  {
   "cell_type": "code",
   "execution_count": 17,
   "metadata": {},
   "outputs": [
    {
     "name": "stdout",
     "output_type": "stream",
     "text": [
      "          type    salary  in_DC\n",
      "0  block-chain  156000.0  False\n",
      "1  block-chain  180000.0  False\n",
      "2  block-chain  500000.0  False\n",
      "3  block-chain  180000.0  False\n",
      "4  block-chain  150000.0  False\n"
     ]
    }
   ],
   "source": [
    "combined_dataset = combined_dataset.iloc[:, [0, 1, -1]]\n",
    "#combined_dataset = combined_dataset[~((combined_dataset['type'] == \"block-chain\") & (combined_dataset['salary'] == 500000.0))] # remove a outlier\n",
    "print(combined_dataset.head())\n",
    "combined_dataset.to_csv('../dataset/salary_combine.csv', index=False)"
   ]
  },
  {
   "cell_type": "code",
   "execution_count": 18,
   "metadata": {},
   "outputs": [],
   "source": [
    "import plotly.graph_objects as go\n",
    "import plotly.express as px\n",
    "import plotly.io as pio\n",
    "\n",
    "pio.renderers.default = \"plotly_mimetype+notebook_connected\""
   ]
  },
  {
   "attachments": {},
   "cell_type": "markdown",
   "metadata": {},
   "source": [
    "## box plot"
   ]
  },
  {
   "cell_type": "code",
   "execution_count": 19,
   "metadata": {},
   "outputs": [
    {
     "data": {
      "text/html": [
       "        <script type=\"text/javascript\">\n",
       "        window.PlotlyConfig = {MathJaxConfig: 'local'};\n",
       "        if (window.MathJax && window.MathJax.Hub && window.MathJax.Hub.Config) {window.MathJax.Hub.Config({SVG: {font: \"STIX-Web\"}});}\n",
       "        if (typeof require !== 'undefined') {\n",
       "        require.undef(\"plotly\");\n",
       "        requirejs.config({\n",
       "            paths: {\n",
       "                'plotly': ['https://cdn.plot.ly/plotly-2.12.1.min']\n",
       "            }\n",
       "        });\n",
       "        require(['plotly'], function(Plotly) {\n",
       "            window._Plotly = Plotly;\n",
       "        });\n",
       "        }\n",
       "        </script>\n",
       "        "
      ]
     },
     "metadata": {},
     "output_type": "display_data"
    },
    {
     "data": {
      "application/vnd.plotly.v1+json": {
       "config": {
        "plotlyServerURL": "https://plot.ly"
       },
       "data": [
        {
         "boxmean": true,
         "marker": {
          "color": "rgb(255, 0, 0)"
         },
         "name": "True",
         "opacity": 1,
         "type": "box",
         "visible": true,
         "x": [
          "block-chain",
          "block-chain",
          "block-chain",
          "block-chain",
          "natural-language-processing",
          "natural-language-processing",
          "natural-language-processing",
          "natural-language-processing",
          "natural-language-processing",
          "big-data-and-cloud-computing",
          "big-data-and-cloud-computing",
          "big-data-and-cloud-computing",
          "big-data-and-cloud-computing",
          "big-data-and-cloud-computing",
          "big-data-and-cloud-computing",
          "data-analyst",
          "data-analyst",
          "data-analyst",
          "data-analyst",
          "data-analyst",
          "data-analyst",
          "data-analyst",
          "machine-learning",
          "machine-learning",
          "machine-learning",
          "machine-learning",
          "machine-learning",
          "machine-learning",
          "machine-learning",
          "machine-learning",
          "machine-learning",
          "reinforcement-learning",
          "reinforcement-learning",
          "reinforcement-learning",
          "reinforcement-learning",
          "neural-networks",
          "neural-networks",
          "deep-learning",
          "deep-learning",
          "deep-learning",
          "deep-learning",
          "deep-learning",
          "deep-learning",
          "deep-learning",
          "data-scientist",
          "data-scientist",
          "data-scientist",
          "data-scientist",
          "data-scientist",
          "data-scientist",
          "data-scientist",
          "data-scientist",
          "data-scientist",
          "data-scientist",
          "data-scientist",
          "data-scientist",
          "data-scientist",
          "data-scientist"
         ],
         "y": [
          209000,
          204600,
          209000,
          209000,
          182000,
          219000,
          219000,
          219000,
          219000,
          135500,
          186000,
          135500,
          135500,
          135500,
          186000,
          133000,
          141000,
          182000,
          125971,
          140000,
          142600,
          149537.5,
          236300,
          145500,
          225900,
          159165,
          104100,
          104100,
          211350,
          212000,
          204833.3333333333,
          212000,
          225900,
          138000,
          212000,
          138000,
          138000,
          225900,
          236300,
          138000,
          159165,
          212000,
          147100,
          212000,
          163500,
          166000,
          122500,
          166000,
          149275,
          127377,
          166000,
          125450,
          166000,
          212000,
          212000,
          130000,
          299293.5,
          166000
         ]
        },
        {
         "boxmean": true,
         "marker": {
          "color": "rgb(255, 215, 0)"
         },
         "name": "False",
         "opacity": 1,
         "type": "box",
         "visible": true,
         "x": [
          "block-chain",
          "block-chain",
          "block-chain",
          "block-chain",
          "block-chain",
          "block-chain",
          "block-chain",
          "block-chain",
          "block-chain",
          "block-chain",
          "block-chain",
          "block-chain",
          "block-chain",
          "block-chain",
          "block-chain",
          "block-chain",
          "data-scientist",
          "data-scientist",
          "data-scientist",
          "data-scientist",
          "data-scientist",
          "data-scientist",
          "data-scientist",
          "data-scientist",
          "data-scientist",
          "data-scientist",
          "data-scientist",
          "data-scientist",
          "data-scientist",
          "data-scientist",
          "data-scientist",
          "data-scientist",
          "data-scientist",
          "data-scientist",
          "natural-language-processing",
          "natural-language-processing",
          "natural-language-processing",
          "natural-language-processing",
          "natural-language-processing",
          "natural-language-processing",
          "natural-language-processing",
          "natural-language-processing",
          "natural-language-processing",
          "natural-language-processing",
          "natural-language-processing",
          "natural-language-processing",
          "natural-language-processing",
          "natural-language-processing",
          "reinforcement-learning",
          "reinforcement-learning",
          "reinforcement-learning",
          "reinforcement-learning",
          "reinforcement-learning",
          "reinforcement-learning",
          "reinforcement-learning",
          "reinforcement-learning",
          "reinforcement-learning",
          "reinforcement-learning",
          "reinforcement-learning",
          "reinforcement-learning",
          "reinforcement-learning",
          "reinforcement-learning",
          "reinforcement-learning",
          "reinforcement-learning",
          "reinforcement-learning",
          "reinforcement-learning",
          "neural-networks",
          "neural-networks",
          "neural-networks",
          "neural-networks",
          "neural-networks",
          "neural-networks",
          "neural-networks",
          "neural-networks",
          "neural-networks",
          "neural-networks",
          "neural-networks",
          "neural-networks",
          "neural-networks",
          "neural-networks",
          "neural-networks",
          "neural-networks",
          "big-data-and-cloud-computing",
          "big-data-and-cloud-computing",
          "big-data-and-cloud-computing",
          "big-data-and-cloud-computing",
          "big-data-and-cloud-computing",
          "big-data-and-cloud-computing",
          "data-analyst",
          "data-analyst",
          "data-analyst",
          "data-analyst",
          "data-analyst",
          "data-analyst",
          "data-analyst",
          "machine-learning",
          "machine-learning",
          "machine-learning",
          "machine-learning",
          "machine-learning",
          "machine-learning",
          "machine-learning",
          "machine-learning",
          "machine-learning",
          "machine-learning",
          "machine-learning",
          "machine-learning",
          "machine-learning",
          "machine-learning",
          "machine-learning",
          "machine-learning",
          "machine-learning",
          "machine-learning",
          "machine-learning",
          "machine-learning",
          "machine-learning",
          "machine-learning",
          "machine-learning",
          "machine-learning",
          "machine-learning",
          "machine-learning",
          "machine-learning",
          "machine-learning",
          "machine-learning",
          "machine-learning",
          "machine-learning",
          "machine-learning",
          "machine-learning",
          "machine-learning",
          "deep-learning",
          "deep-learning",
          "deep-learning",
          "deep-learning",
          "deep-learning",
          "deep-learning",
          "deep-learning",
          "deep-learning",
          "deep-learning",
          "deep-learning",
          "deep-learning",
          "deep-learning",
          "deep-learning",
          "deep-learning",
          "deep-learning",
          "deep-learning",
          "deep-learning",
          "deep-learning",
          "deep-learning",
          "deep-learning",
          "deep-learning",
          "deep-learning",
          "deep-learning",
          "deep-learning"
         ],
         "y": [
          156000,
          180000,
          500000,
          180000,
          150000,
          175000,
          153400,
          209099,
          104500,
          200000,
          209099,
          180000,
          175000,
          500000,
          180000,
          150000,
          156650,
          174080,
          132906,
          142600,
          175300,
          121000,
          106000,
          229400,
          220000,
          180250,
          166000,
          158445,
          137844,
          149280,
          152000,
          112500,
          121000,
          229400,
          150000,
          186000,
          186000,
          136644.5,
          136644.5,
          253000,
          253000,
          253000,
          136644.5,
          110700,
          136644.5,
          180900,
          150000,
          136644.5,
          205757.14285714287,
          218700,
          135200,
          285000,
          159982.5,
          159000,
          180000,
          158500,
          203556,
          164000,
          186000,
          186000,
          219500,
          219500,
          159000,
          285000,
          180000,
          203556,
          300000,
          160250,
          300000,
          238000,
          188000,
          175000,
          300000,
          186000,
          300000,
          238000,
          186000,
          160250,
          300000,
          175000,
          300000,
          188000,
          400000,
          176000,
          176000,
          147500,
          147500,
          147500,
          120000,
          124000,
          105000,
          158000,
          110000,
          129000,
          120000,
          222000,
          163333.33333333334,
          179875,
          196200,
          286250,
          207000,
          292511.1111111111,
          245000,
          192500,
          199700,
          207125,
          185000,
          257000,
          117660,
          179875,
          196200,
          174200,
          130000,
          212000,
          157175,
          174480,
          204833.3333333333,
          163333.33333333334,
          175000,
          192500,
          115000,
          186000,
          174200,
          150000,
          199700,
          196200,
          186000,
          215000,
          245000,
          207125,
          190000,
          207000,
          196200,
          150000,
          175000,
          186000,
          157175,
          250000,
          204000,
          207125,
          172500,
          175000,
          172020,
          254750,
          150000,
          207000,
          186000,
          285000,
          196200,
          215000,
          282220,
          215000,
          282220
         ]
        }
       ],
       "layout": {
        "boxmode": "group",
        "legend": {
         "title": {
          "text": "Job in DC"
         }
        },
        "plot_bgcolor": "rgba(0,0,0,0)",
        "template": {
         "data": {
          "bar": [
           {
            "error_x": {
             "color": "#2a3f5f"
            },
            "error_y": {
             "color": "#2a3f5f"
            },
            "marker": {
             "line": {
              "color": "#E5ECF6",
              "width": 0.5
             },
             "pattern": {
              "fillmode": "overlay",
              "size": 10,
              "solidity": 0.2
             }
            },
            "type": "bar"
           }
          ],
          "barpolar": [
           {
            "marker": {
             "line": {
              "color": "#E5ECF6",
              "width": 0.5
             },
             "pattern": {
              "fillmode": "overlay",
              "size": 10,
              "solidity": 0.2
             }
            },
            "type": "barpolar"
           }
          ],
          "carpet": [
           {
            "aaxis": {
             "endlinecolor": "#2a3f5f",
             "gridcolor": "white",
             "linecolor": "white",
             "minorgridcolor": "white",
             "startlinecolor": "#2a3f5f"
            },
            "baxis": {
             "endlinecolor": "#2a3f5f",
             "gridcolor": "white",
             "linecolor": "white",
             "minorgridcolor": "white",
             "startlinecolor": "#2a3f5f"
            },
            "type": "carpet"
           }
          ],
          "choropleth": [
           {
            "colorbar": {
             "outlinewidth": 0,
             "ticks": ""
            },
            "type": "choropleth"
           }
          ],
          "contour": [
           {
            "colorbar": {
             "outlinewidth": 0,
             "ticks": ""
            },
            "colorscale": [
             [
              0,
              "#0d0887"
             ],
             [
              0.1111111111111111,
              "#46039f"
             ],
             [
              0.2222222222222222,
              "#7201a8"
             ],
             [
              0.3333333333333333,
              "#9c179e"
             ],
             [
              0.4444444444444444,
              "#bd3786"
             ],
             [
              0.5555555555555556,
              "#d8576b"
             ],
             [
              0.6666666666666666,
              "#ed7953"
             ],
             [
              0.7777777777777778,
              "#fb9f3a"
             ],
             [
              0.8888888888888888,
              "#fdca26"
             ],
             [
              1,
              "#f0f921"
             ]
            ],
            "type": "contour"
           }
          ],
          "contourcarpet": [
           {
            "colorbar": {
             "outlinewidth": 0,
             "ticks": ""
            },
            "type": "contourcarpet"
           }
          ],
          "heatmap": [
           {
            "colorbar": {
             "outlinewidth": 0,
             "ticks": ""
            },
            "colorscale": [
             [
              0,
              "#0d0887"
             ],
             [
              0.1111111111111111,
              "#46039f"
             ],
             [
              0.2222222222222222,
              "#7201a8"
             ],
             [
              0.3333333333333333,
              "#9c179e"
             ],
             [
              0.4444444444444444,
              "#bd3786"
             ],
             [
              0.5555555555555556,
              "#d8576b"
             ],
             [
              0.6666666666666666,
              "#ed7953"
             ],
             [
              0.7777777777777778,
              "#fb9f3a"
             ],
             [
              0.8888888888888888,
              "#fdca26"
             ],
             [
              1,
              "#f0f921"
             ]
            ],
            "type": "heatmap"
           }
          ],
          "heatmapgl": [
           {
            "colorbar": {
             "outlinewidth": 0,
             "ticks": ""
            },
            "colorscale": [
             [
              0,
              "#0d0887"
             ],
             [
              0.1111111111111111,
              "#46039f"
             ],
             [
              0.2222222222222222,
              "#7201a8"
             ],
             [
              0.3333333333333333,
              "#9c179e"
             ],
             [
              0.4444444444444444,
              "#bd3786"
             ],
             [
              0.5555555555555556,
              "#d8576b"
             ],
             [
              0.6666666666666666,
              "#ed7953"
             ],
             [
              0.7777777777777778,
              "#fb9f3a"
             ],
             [
              0.8888888888888888,
              "#fdca26"
             ],
             [
              1,
              "#f0f921"
             ]
            ],
            "type": "heatmapgl"
           }
          ],
          "histogram": [
           {
            "marker": {
             "pattern": {
              "fillmode": "overlay",
              "size": 10,
              "solidity": 0.2
             }
            },
            "type": "histogram"
           }
          ],
          "histogram2d": [
           {
            "colorbar": {
             "outlinewidth": 0,
             "ticks": ""
            },
            "colorscale": [
             [
              0,
              "#0d0887"
             ],
             [
              0.1111111111111111,
              "#46039f"
             ],
             [
              0.2222222222222222,
              "#7201a8"
             ],
             [
              0.3333333333333333,
              "#9c179e"
             ],
             [
              0.4444444444444444,
              "#bd3786"
             ],
             [
              0.5555555555555556,
              "#d8576b"
             ],
             [
              0.6666666666666666,
              "#ed7953"
             ],
             [
              0.7777777777777778,
              "#fb9f3a"
             ],
             [
              0.8888888888888888,
              "#fdca26"
             ],
             [
              1,
              "#f0f921"
             ]
            ],
            "type": "histogram2d"
           }
          ],
          "histogram2dcontour": [
           {
            "colorbar": {
             "outlinewidth": 0,
             "ticks": ""
            },
            "colorscale": [
             [
              0,
              "#0d0887"
             ],
             [
              0.1111111111111111,
              "#46039f"
             ],
             [
              0.2222222222222222,
              "#7201a8"
             ],
             [
              0.3333333333333333,
              "#9c179e"
             ],
             [
              0.4444444444444444,
              "#bd3786"
             ],
             [
              0.5555555555555556,
              "#d8576b"
             ],
             [
              0.6666666666666666,
              "#ed7953"
             ],
             [
              0.7777777777777778,
              "#fb9f3a"
             ],
             [
              0.8888888888888888,
              "#fdca26"
             ],
             [
              1,
              "#f0f921"
             ]
            ],
            "type": "histogram2dcontour"
           }
          ],
          "mesh3d": [
           {
            "colorbar": {
             "outlinewidth": 0,
             "ticks": ""
            },
            "type": "mesh3d"
           }
          ],
          "parcoords": [
           {
            "line": {
             "colorbar": {
              "outlinewidth": 0,
              "ticks": ""
             }
            },
            "type": "parcoords"
           }
          ],
          "pie": [
           {
            "automargin": true,
            "type": "pie"
           }
          ],
          "scatter": [
           {
            "fillpattern": {
             "fillmode": "overlay",
             "size": 10,
             "solidity": 0.2
            },
            "type": "scatter"
           }
          ],
          "scatter3d": [
           {
            "line": {
             "colorbar": {
              "outlinewidth": 0,
              "ticks": ""
             }
            },
            "marker": {
             "colorbar": {
              "outlinewidth": 0,
              "ticks": ""
             }
            },
            "type": "scatter3d"
           }
          ],
          "scattercarpet": [
           {
            "marker": {
             "colorbar": {
              "outlinewidth": 0,
              "ticks": ""
             }
            },
            "type": "scattercarpet"
           }
          ],
          "scattergeo": [
           {
            "marker": {
             "colorbar": {
              "outlinewidth": 0,
              "ticks": ""
             }
            },
            "type": "scattergeo"
           }
          ],
          "scattergl": [
           {
            "marker": {
             "colorbar": {
              "outlinewidth": 0,
              "ticks": ""
             }
            },
            "type": "scattergl"
           }
          ],
          "scattermapbox": [
           {
            "marker": {
             "colorbar": {
              "outlinewidth": 0,
              "ticks": ""
             }
            },
            "type": "scattermapbox"
           }
          ],
          "scatterpolar": [
           {
            "marker": {
             "colorbar": {
              "outlinewidth": 0,
              "ticks": ""
             }
            },
            "type": "scatterpolar"
           }
          ],
          "scatterpolargl": [
           {
            "marker": {
             "colorbar": {
              "outlinewidth": 0,
              "ticks": ""
             }
            },
            "type": "scatterpolargl"
           }
          ],
          "scatterternary": [
           {
            "marker": {
             "colorbar": {
              "outlinewidth": 0,
              "ticks": ""
             }
            },
            "type": "scatterternary"
           }
          ],
          "surface": [
           {
            "colorbar": {
             "outlinewidth": 0,
             "ticks": ""
            },
            "colorscale": [
             [
              0,
              "#0d0887"
             ],
             [
              0.1111111111111111,
              "#46039f"
             ],
             [
              0.2222222222222222,
              "#7201a8"
             ],
             [
              0.3333333333333333,
              "#9c179e"
             ],
             [
              0.4444444444444444,
              "#bd3786"
             ],
             [
              0.5555555555555556,
              "#d8576b"
             ],
             [
              0.6666666666666666,
              "#ed7953"
             ],
             [
              0.7777777777777778,
              "#fb9f3a"
             ],
             [
              0.8888888888888888,
              "#fdca26"
             ],
             [
              1,
              "#f0f921"
             ]
            ],
            "type": "surface"
           }
          ],
          "table": [
           {
            "cells": {
             "fill": {
              "color": "#EBF0F8"
             },
             "line": {
              "color": "white"
             }
            },
            "header": {
             "fill": {
              "color": "#C8D4E3"
             },
             "line": {
              "color": "white"
             }
            },
            "type": "table"
           }
          ]
         },
         "layout": {
          "annotationdefaults": {
           "arrowcolor": "#2a3f5f",
           "arrowhead": 0,
           "arrowwidth": 1
          },
          "autotypenumbers": "strict",
          "coloraxis": {
           "colorbar": {
            "outlinewidth": 0,
            "ticks": ""
           }
          },
          "colorscale": {
           "diverging": [
            [
             0,
             "#8e0152"
            ],
            [
             0.1,
             "#c51b7d"
            ],
            [
             0.2,
             "#de77ae"
            ],
            [
             0.3,
             "#f1b6da"
            ],
            [
             0.4,
             "#fde0ef"
            ],
            [
             0.5,
             "#f7f7f7"
            ],
            [
             0.6,
             "#e6f5d0"
            ],
            [
             0.7,
             "#b8e186"
            ],
            [
             0.8,
             "#7fbc41"
            ],
            [
             0.9,
             "#4d9221"
            ],
            [
             1,
             "#276419"
            ]
           ],
           "sequential": [
            [
             0,
             "#0d0887"
            ],
            [
             0.1111111111111111,
             "#46039f"
            ],
            [
             0.2222222222222222,
             "#7201a8"
            ],
            [
             0.3333333333333333,
             "#9c179e"
            ],
            [
             0.4444444444444444,
             "#bd3786"
            ],
            [
             0.5555555555555556,
             "#d8576b"
            ],
            [
             0.6666666666666666,
             "#ed7953"
            ],
            [
             0.7777777777777778,
             "#fb9f3a"
            ],
            [
             0.8888888888888888,
             "#fdca26"
            ],
            [
             1,
             "#f0f921"
            ]
           ],
           "sequentialminus": [
            [
             0,
             "#0d0887"
            ],
            [
             0.1111111111111111,
             "#46039f"
            ],
            [
             0.2222222222222222,
             "#7201a8"
            ],
            [
             0.3333333333333333,
             "#9c179e"
            ],
            [
             0.4444444444444444,
             "#bd3786"
            ],
            [
             0.5555555555555556,
             "#d8576b"
            ],
            [
             0.6666666666666666,
             "#ed7953"
            ],
            [
             0.7777777777777778,
             "#fb9f3a"
            ],
            [
             0.8888888888888888,
             "#fdca26"
            ],
            [
             1,
             "#f0f921"
            ]
           ]
          },
          "colorway": [
           "#636efa",
           "#EF553B",
           "#00cc96",
           "#ab63fa",
           "#FFA15A",
           "#19d3f3",
           "#FF6692",
           "#B6E880",
           "#FF97FF",
           "#FECB52"
          ],
          "font": {
           "color": "#2a3f5f"
          },
          "geo": {
           "bgcolor": "white",
           "lakecolor": "white",
           "landcolor": "#E5ECF6",
           "showlakes": true,
           "showland": true,
           "subunitcolor": "white"
          },
          "hoverlabel": {
           "align": "left"
          },
          "hovermode": "closest",
          "mapbox": {
           "style": "light"
          },
          "paper_bgcolor": "white",
          "plot_bgcolor": "#E5ECF6",
          "polar": {
           "angularaxis": {
            "gridcolor": "white",
            "linecolor": "white",
            "ticks": ""
           },
           "bgcolor": "#E5ECF6",
           "radialaxis": {
            "gridcolor": "white",
            "linecolor": "white",
            "ticks": ""
           }
          },
          "scene": {
           "xaxis": {
            "backgroundcolor": "#E5ECF6",
            "gridcolor": "white",
            "gridwidth": 2,
            "linecolor": "white",
            "showbackground": true,
            "ticks": "",
            "zerolinecolor": "white"
           },
           "yaxis": {
            "backgroundcolor": "#E5ECF6",
            "gridcolor": "white",
            "gridwidth": 2,
            "linecolor": "white",
            "showbackground": true,
            "ticks": "",
            "zerolinecolor": "white"
           },
           "zaxis": {
            "backgroundcolor": "#E5ECF6",
            "gridcolor": "white",
            "gridwidth": 2,
            "linecolor": "white",
            "showbackground": true,
            "ticks": "",
            "zerolinecolor": "white"
           }
          },
          "shapedefaults": {
           "line": {
            "color": "#2a3f5f"
           }
          },
          "ternary": {
           "aaxis": {
            "gridcolor": "white",
            "linecolor": "white",
            "ticks": ""
           },
           "baxis": {
            "gridcolor": "white",
            "linecolor": "white",
            "ticks": ""
           },
           "bgcolor": "#E5ECF6",
           "caxis": {
            "gridcolor": "white",
            "linecolor": "white",
            "ticks": ""
           }
          },
          "title": {
           "x": 0.05
          },
          "xaxis": {
           "automargin": true,
           "gridcolor": "white",
           "linecolor": "white",
           "ticks": "",
           "title": {
            "standoff": 15
           },
           "zerolinecolor": "white",
           "zerolinewidth": 2
          },
          "yaxis": {
           "automargin": true,
           "gridcolor": "white",
           "linecolor": "white",
           "ticks": "",
           "title": {
            "standoff": 15
           },
           "zerolinecolor": "white",
           "zerolinewidth": 2
          }
         }
        },
        "title": {
         "font": {
          "size": 20
         },
         "text": "Salary Ranges in DC and Outside DC",
         "x": 0.05,
         "y": 0.85
        },
        "xaxis": {
         "tickangle": 90,
         "tickvals": [
          "data-scientist",
          "big-data-and-cloud-computing",
          "reinforcement-learning",
          "data-analyst",
          "block-chain",
          "neural-networks",
          "machine-learning",
          "deep-learning",
          "natural-language-processing"
         ],
         "title": {
          "text": "Job Types"
         }
        },
        "yaxis": {
         "gridcolor": "lightgrey",
         "layer": "below traces",
         "linewidth": 1,
         "showline": true,
         "title": {
          "text": "Salary ($USA)"
         }
        }
       }
      },
      "text/html": [
       "<div>                            <div id=\"663a7e76-e277-4ebe-8b2a-7d458f5f9709\" class=\"plotly-graph-div\" style=\"height:525px; width:100%;\"></div>            <script type=\"text/javascript\">                require([\"plotly\"], function(Plotly) {                    window.PLOTLYENV=window.PLOTLYENV || {};                                    if (document.getElementById(\"663a7e76-e277-4ebe-8b2a-7d458f5f9709\")) {                    Plotly.newPlot(                        \"663a7e76-e277-4ebe-8b2a-7d458f5f9709\",                        [{\"boxmean\":true,\"marker\":{\"color\":\"rgb(255, 0, 0)\"},\"name\":\"True\",\"opacity\":1.0,\"visible\":true,\"x\":[\"block-chain\",\"block-chain\",\"block-chain\",\"block-chain\",\"natural-language-processing\",\"natural-language-processing\",\"natural-language-processing\",\"natural-language-processing\",\"natural-language-processing\",\"big-data-and-cloud-computing\",\"big-data-and-cloud-computing\",\"big-data-and-cloud-computing\",\"big-data-and-cloud-computing\",\"big-data-and-cloud-computing\",\"big-data-and-cloud-computing\",\"data-analyst\",\"data-analyst\",\"data-analyst\",\"data-analyst\",\"data-analyst\",\"data-analyst\",\"data-analyst\",\"machine-learning\",\"machine-learning\",\"machine-learning\",\"machine-learning\",\"machine-learning\",\"machine-learning\",\"machine-learning\",\"machine-learning\",\"machine-learning\",\"reinforcement-learning\",\"reinforcement-learning\",\"reinforcement-learning\",\"reinforcement-learning\",\"neural-networks\",\"neural-networks\",\"deep-learning\",\"deep-learning\",\"deep-learning\",\"deep-learning\",\"deep-learning\",\"deep-learning\",\"deep-learning\",\"data-scientist\",\"data-scientist\",\"data-scientist\",\"data-scientist\",\"data-scientist\",\"data-scientist\",\"data-scientist\",\"data-scientist\",\"data-scientist\",\"data-scientist\",\"data-scientist\",\"data-scientist\",\"data-scientist\",\"data-scientist\"],\"y\":[209000.0,204600.0,209000.0,209000.0,182000.0,219000.0,219000.0,219000.0,219000.0,135500.0,186000.0,135500.0,135500.0,135500.0,186000.0,133000.0,141000.0,182000.0,125971.0,140000.0,142600.0,149537.5,236300.0,145500.0,225900.0,159165.0,104100.0,104100.0,211350.0,212000.0,204833.3333333333,212000.0,225900.0,138000.0,212000.0,138000.0,138000.0,225900.0,236300.0,138000.0,159165.0,212000.0,147100.0,212000.0,163500.0,166000.0,122500.0,166000.0,149275.0,127377.0,166000.0,125450.0,166000.0,212000.0,212000.0,130000.0,299293.5,166000.0],\"type\":\"box\"},{\"boxmean\":true,\"marker\":{\"color\":\"rgb(255, 215, 0)\"},\"name\":\"False\",\"opacity\":1.0,\"visible\":true,\"x\":[\"block-chain\",\"block-chain\",\"block-chain\",\"block-chain\",\"block-chain\",\"block-chain\",\"block-chain\",\"block-chain\",\"block-chain\",\"block-chain\",\"block-chain\",\"block-chain\",\"block-chain\",\"block-chain\",\"block-chain\",\"block-chain\",\"data-scientist\",\"data-scientist\",\"data-scientist\",\"data-scientist\",\"data-scientist\",\"data-scientist\",\"data-scientist\",\"data-scientist\",\"data-scientist\",\"data-scientist\",\"data-scientist\",\"data-scientist\",\"data-scientist\",\"data-scientist\",\"data-scientist\",\"data-scientist\",\"data-scientist\",\"data-scientist\",\"natural-language-processing\",\"natural-language-processing\",\"natural-language-processing\",\"natural-language-processing\",\"natural-language-processing\",\"natural-language-processing\",\"natural-language-processing\",\"natural-language-processing\",\"natural-language-processing\",\"natural-language-processing\",\"natural-language-processing\",\"natural-language-processing\",\"natural-language-processing\",\"natural-language-processing\",\"reinforcement-learning\",\"reinforcement-learning\",\"reinforcement-learning\",\"reinforcement-learning\",\"reinforcement-learning\",\"reinforcement-learning\",\"reinforcement-learning\",\"reinforcement-learning\",\"reinforcement-learning\",\"reinforcement-learning\",\"reinforcement-learning\",\"reinforcement-learning\",\"reinforcement-learning\",\"reinforcement-learning\",\"reinforcement-learning\",\"reinforcement-learning\",\"reinforcement-learning\",\"reinforcement-learning\",\"neural-networks\",\"neural-networks\",\"neural-networks\",\"neural-networks\",\"neural-networks\",\"neural-networks\",\"neural-networks\",\"neural-networks\",\"neural-networks\",\"neural-networks\",\"neural-networks\",\"neural-networks\",\"neural-networks\",\"neural-networks\",\"neural-networks\",\"neural-networks\",\"big-data-and-cloud-computing\",\"big-data-and-cloud-computing\",\"big-data-and-cloud-computing\",\"big-data-and-cloud-computing\",\"big-data-and-cloud-computing\",\"big-data-and-cloud-computing\",\"data-analyst\",\"data-analyst\",\"data-analyst\",\"data-analyst\",\"data-analyst\",\"data-analyst\",\"data-analyst\",\"machine-learning\",\"machine-learning\",\"machine-learning\",\"machine-learning\",\"machine-learning\",\"machine-learning\",\"machine-learning\",\"machine-learning\",\"machine-learning\",\"machine-learning\",\"machine-learning\",\"machine-learning\",\"machine-learning\",\"machine-learning\",\"machine-learning\",\"machine-learning\",\"machine-learning\",\"machine-learning\",\"machine-learning\",\"machine-learning\",\"machine-learning\",\"machine-learning\",\"machine-learning\",\"machine-learning\",\"machine-learning\",\"machine-learning\",\"machine-learning\",\"machine-learning\",\"machine-learning\",\"machine-learning\",\"machine-learning\",\"machine-learning\",\"machine-learning\",\"machine-learning\",\"deep-learning\",\"deep-learning\",\"deep-learning\",\"deep-learning\",\"deep-learning\",\"deep-learning\",\"deep-learning\",\"deep-learning\",\"deep-learning\",\"deep-learning\",\"deep-learning\",\"deep-learning\",\"deep-learning\",\"deep-learning\",\"deep-learning\",\"deep-learning\",\"deep-learning\",\"deep-learning\",\"deep-learning\",\"deep-learning\",\"deep-learning\",\"deep-learning\",\"deep-learning\",\"deep-learning\"],\"y\":[156000.0,180000.0,500000.0,180000.0,150000.0,175000.0,153400.0,209099.0,104500.0,200000.0,209099.0,180000.0,175000.0,500000.0,180000.0,150000.0,156650.0,174080.0,132906.0,142600.0,175300.0,121000.0,106000.0,229400.0,220000.0,180250.0,166000.0,158445.0,137844.0,149280.0,152000.0,112500.0,121000.0,229400.0,150000.0,186000.0,186000.0,136644.5,136644.5,253000.0,253000.0,253000.0,136644.5,110700.0,136644.5,180900.0,150000.0,136644.5,205757.14285714287,218700.0,135200.0,285000.0,159982.5,159000.0,180000.0,158500.0,203556.0,164000.0,186000.0,186000.0,219500.0,219500.0,159000.0,285000.0,180000.0,203556.0,300000.0,160250.0,300000.0,238000.0,188000.0,175000.0,300000.0,186000.0,300000.0,238000.0,186000.0,160250.0,300000.0,175000.0,300000.0,188000.0,400000.0,176000.0,176000.0,147500.0,147500.0,147500.0,120000.0,124000.0,105000.0,158000.0,110000.0,129000.0,120000.0,222000.0,163333.33333333334,179875.0,196200.0,286250.0,207000.0,292511.1111111111,245000.0,192500.0,199700.0,207125.0,185000.0,257000.0,117660.0,179875.0,196200.0,174200.0,130000.0,212000.0,157175.0,174480.0,204833.3333333333,163333.33333333334,175000.0,192500.0,115000.0,186000.0,174200.0,150000.0,199700.0,196200.0,186000.0,215000.0,245000.0,207125.0,190000.0,207000.0,196200.0,150000.0,175000.0,186000.0,157175.0,250000.0,204000.0,207125.0,172500.0,175000.0,172020.0,254750.0,150000.0,207000.0,186000.0,285000.0,196200.0,215000.0,282220.0,215000.0,282220.0],\"type\":\"box\"}],                        {\"template\":{\"data\":{\"histogram2dcontour\":[{\"type\":\"histogram2dcontour\",\"colorbar\":{\"outlinewidth\":0,\"ticks\":\"\"},\"colorscale\":[[0.0,\"#0d0887\"],[0.1111111111111111,\"#46039f\"],[0.2222222222222222,\"#7201a8\"],[0.3333333333333333,\"#9c179e\"],[0.4444444444444444,\"#bd3786\"],[0.5555555555555556,\"#d8576b\"],[0.6666666666666666,\"#ed7953\"],[0.7777777777777778,\"#fb9f3a\"],[0.8888888888888888,\"#fdca26\"],[1.0,\"#f0f921\"]]}],\"choropleth\":[{\"type\":\"choropleth\",\"colorbar\":{\"outlinewidth\":0,\"ticks\":\"\"}}],\"histogram2d\":[{\"type\":\"histogram2d\",\"colorbar\":{\"outlinewidth\":0,\"ticks\":\"\"},\"colorscale\":[[0.0,\"#0d0887\"],[0.1111111111111111,\"#46039f\"],[0.2222222222222222,\"#7201a8\"],[0.3333333333333333,\"#9c179e\"],[0.4444444444444444,\"#bd3786\"],[0.5555555555555556,\"#d8576b\"],[0.6666666666666666,\"#ed7953\"],[0.7777777777777778,\"#fb9f3a\"],[0.8888888888888888,\"#fdca26\"],[1.0,\"#f0f921\"]]}],\"heatmap\":[{\"type\":\"heatmap\",\"colorbar\":{\"outlinewidth\":0,\"ticks\":\"\"},\"colorscale\":[[0.0,\"#0d0887\"],[0.1111111111111111,\"#46039f\"],[0.2222222222222222,\"#7201a8\"],[0.3333333333333333,\"#9c179e\"],[0.4444444444444444,\"#bd3786\"],[0.5555555555555556,\"#d8576b\"],[0.6666666666666666,\"#ed7953\"],[0.7777777777777778,\"#fb9f3a\"],[0.8888888888888888,\"#fdca26\"],[1.0,\"#f0f921\"]]}],\"heatmapgl\":[{\"type\":\"heatmapgl\",\"colorbar\":{\"outlinewidth\":0,\"ticks\":\"\"},\"colorscale\":[[0.0,\"#0d0887\"],[0.1111111111111111,\"#46039f\"],[0.2222222222222222,\"#7201a8\"],[0.3333333333333333,\"#9c179e\"],[0.4444444444444444,\"#bd3786\"],[0.5555555555555556,\"#d8576b\"],[0.6666666666666666,\"#ed7953\"],[0.7777777777777778,\"#fb9f3a\"],[0.8888888888888888,\"#fdca26\"],[1.0,\"#f0f921\"]]}],\"contourcarpet\":[{\"type\":\"contourcarpet\",\"colorbar\":{\"outlinewidth\":0,\"ticks\":\"\"}}],\"contour\":[{\"type\":\"contour\",\"colorbar\":{\"outlinewidth\":0,\"ticks\":\"\"},\"colorscale\":[[0.0,\"#0d0887\"],[0.1111111111111111,\"#46039f\"],[0.2222222222222222,\"#7201a8\"],[0.3333333333333333,\"#9c179e\"],[0.4444444444444444,\"#bd3786\"],[0.5555555555555556,\"#d8576b\"],[0.6666666666666666,\"#ed7953\"],[0.7777777777777778,\"#fb9f3a\"],[0.8888888888888888,\"#fdca26\"],[1.0,\"#f0f921\"]]}],\"surface\":[{\"type\":\"surface\",\"colorbar\":{\"outlinewidth\":0,\"ticks\":\"\"},\"colorscale\":[[0.0,\"#0d0887\"],[0.1111111111111111,\"#46039f\"],[0.2222222222222222,\"#7201a8\"],[0.3333333333333333,\"#9c179e\"],[0.4444444444444444,\"#bd3786\"],[0.5555555555555556,\"#d8576b\"],[0.6666666666666666,\"#ed7953\"],[0.7777777777777778,\"#fb9f3a\"],[0.8888888888888888,\"#fdca26\"],[1.0,\"#f0f921\"]]}],\"mesh3d\":[{\"type\":\"mesh3d\",\"colorbar\":{\"outlinewidth\":0,\"ticks\":\"\"}}],\"scatter\":[{\"fillpattern\":{\"fillmode\":\"overlay\",\"size\":10,\"solidity\":0.2},\"type\":\"scatter\"}],\"parcoords\":[{\"type\":\"parcoords\",\"line\":{\"colorbar\":{\"outlinewidth\":0,\"ticks\":\"\"}}}],\"scatterpolargl\":[{\"type\":\"scatterpolargl\",\"marker\":{\"colorbar\":{\"outlinewidth\":0,\"ticks\":\"\"}}}],\"bar\":[{\"error_x\":{\"color\":\"#2a3f5f\"},\"error_y\":{\"color\":\"#2a3f5f\"},\"marker\":{\"line\":{\"color\":\"#E5ECF6\",\"width\":0.5},\"pattern\":{\"fillmode\":\"overlay\",\"size\":10,\"solidity\":0.2}},\"type\":\"bar\"}],\"scattergeo\":[{\"type\":\"scattergeo\",\"marker\":{\"colorbar\":{\"outlinewidth\":0,\"ticks\":\"\"}}}],\"scatterpolar\":[{\"type\":\"scatterpolar\",\"marker\":{\"colorbar\":{\"outlinewidth\":0,\"ticks\":\"\"}}}],\"histogram\":[{\"marker\":{\"pattern\":{\"fillmode\":\"overlay\",\"size\":10,\"solidity\":0.2}},\"type\":\"histogram\"}],\"scattergl\":[{\"type\":\"scattergl\",\"marker\":{\"colorbar\":{\"outlinewidth\":0,\"ticks\":\"\"}}}],\"scatter3d\":[{\"type\":\"scatter3d\",\"line\":{\"colorbar\":{\"outlinewidth\":0,\"ticks\":\"\"}},\"marker\":{\"colorbar\":{\"outlinewidth\":0,\"ticks\":\"\"}}}],\"scattermapbox\":[{\"type\":\"scattermapbox\",\"marker\":{\"colorbar\":{\"outlinewidth\":0,\"ticks\":\"\"}}}],\"scatterternary\":[{\"type\":\"scatterternary\",\"marker\":{\"colorbar\":{\"outlinewidth\":0,\"ticks\":\"\"}}}],\"scattercarpet\":[{\"type\":\"scattercarpet\",\"marker\":{\"colorbar\":{\"outlinewidth\":0,\"ticks\":\"\"}}}],\"carpet\":[{\"aaxis\":{\"endlinecolor\":\"#2a3f5f\",\"gridcolor\":\"white\",\"linecolor\":\"white\",\"minorgridcolor\":\"white\",\"startlinecolor\":\"#2a3f5f\"},\"baxis\":{\"endlinecolor\":\"#2a3f5f\",\"gridcolor\":\"white\",\"linecolor\":\"white\",\"minorgridcolor\":\"white\",\"startlinecolor\":\"#2a3f5f\"},\"type\":\"carpet\"}],\"table\":[{\"cells\":{\"fill\":{\"color\":\"#EBF0F8\"},\"line\":{\"color\":\"white\"}},\"header\":{\"fill\":{\"color\":\"#C8D4E3\"},\"line\":{\"color\":\"white\"}},\"type\":\"table\"}],\"barpolar\":[{\"marker\":{\"line\":{\"color\":\"#E5ECF6\",\"width\":0.5},\"pattern\":{\"fillmode\":\"overlay\",\"size\":10,\"solidity\":0.2}},\"type\":\"barpolar\"}],\"pie\":[{\"automargin\":true,\"type\":\"pie\"}]},\"layout\":{\"autotypenumbers\":\"strict\",\"colorway\":[\"#636efa\",\"#EF553B\",\"#00cc96\",\"#ab63fa\",\"#FFA15A\",\"#19d3f3\",\"#FF6692\",\"#B6E880\",\"#FF97FF\",\"#FECB52\"],\"font\":{\"color\":\"#2a3f5f\"},\"hovermode\":\"closest\",\"hoverlabel\":{\"align\":\"left\"},\"paper_bgcolor\":\"white\",\"plot_bgcolor\":\"#E5ECF6\",\"polar\":{\"bgcolor\":\"#E5ECF6\",\"angularaxis\":{\"gridcolor\":\"white\",\"linecolor\":\"white\",\"ticks\":\"\"},\"radialaxis\":{\"gridcolor\":\"white\",\"linecolor\":\"white\",\"ticks\":\"\"}},\"ternary\":{\"bgcolor\":\"#E5ECF6\",\"aaxis\":{\"gridcolor\":\"white\",\"linecolor\":\"white\",\"ticks\":\"\"},\"baxis\":{\"gridcolor\":\"white\",\"linecolor\":\"white\",\"ticks\":\"\"},\"caxis\":{\"gridcolor\":\"white\",\"linecolor\":\"white\",\"ticks\":\"\"}},\"coloraxis\":{\"colorbar\":{\"outlinewidth\":0,\"ticks\":\"\"}},\"colorscale\":{\"sequential\":[[0.0,\"#0d0887\"],[0.1111111111111111,\"#46039f\"],[0.2222222222222222,\"#7201a8\"],[0.3333333333333333,\"#9c179e\"],[0.4444444444444444,\"#bd3786\"],[0.5555555555555556,\"#d8576b\"],[0.6666666666666666,\"#ed7953\"],[0.7777777777777778,\"#fb9f3a\"],[0.8888888888888888,\"#fdca26\"],[1.0,\"#f0f921\"]],\"sequentialminus\":[[0.0,\"#0d0887\"],[0.1111111111111111,\"#46039f\"],[0.2222222222222222,\"#7201a8\"],[0.3333333333333333,\"#9c179e\"],[0.4444444444444444,\"#bd3786\"],[0.5555555555555556,\"#d8576b\"],[0.6666666666666666,\"#ed7953\"],[0.7777777777777778,\"#fb9f3a\"],[0.8888888888888888,\"#fdca26\"],[1.0,\"#f0f921\"]],\"diverging\":[[0,\"#8e0152\"],[0.1,\"#c51b7d\"],[0.2,\"#de77ae\"],[0.3,\"#f1b6da\"],[0.4,\"#fde0ef\"],[0.5,\"#f7f7f7\"],[0.6,\"#e6f5d0\"],[0.7,\"#b8e186\"],[0.8,\"#7fbc41\"],[0.9,\"#4d9221\"],[1,\"#276419\"]]},\"xaxis\":{\"gridcolor\":\"white\",\"linecolor\":\"white\",\"ticks\":\"\",\"title\":{\"standoff\":15},\"zerolinecolor\":\"white\",\"automargin\":true,\"zerolinewidth\":2},\"yaxis\":{\"gridcolor\":\"white\",\"linecolor\":\"white\",\"ticks\":\"\",\"title\":{\"standoff\":15},\"zerolinecolor\":\"white\",\"automargin\":true,\"zerolinewidth\":2},\"scene\":{\"xaxis\":{\"backgroundcolor\":\"#E5ECF6\",\"gridcolor\":\"white\",\"linecolor\":\"white\",\"showbackground\":true,\"ticks\":\"\",\"zerolinecolor\":\"white\",\"gridwidth\":2},\"yaxis\":{\"backgroundcolor\":\"#E5ECF6\",\"gridcolor\":\"white\",\"linecolor\":\"white\",\"showbackground\":true,\"ticks\":\"\",\"zerolinecolor\":\"white\",\"gridwidth\":2},\"zaxis\":{\"backgroundcolor\":\"#E5ECF6\",\"gridcolor\":\"white\",\"linecolor\":\"white\",\"showbackground\":true,\"ticks\":\"\",\"zerolinecolor\":\"white\",\"gridwidth\":2}},\"shapedefaults\":{\"line\":{\"color\":\"#2a3f5f\"}},\"annotationdefaults\":{\"arrowcolor\":\"#2a3f5f\",\"arrowhead\":0,\"arrowwidth\":1},\"geo\":{\"bgcolor\":\"white\",\"landcolor\":\"#E5ECF6\",\"subunitcolor\":\"white\",\"showland\":true,\"showlakes\":true,\"lakecolor\":\"white\"},\"title\":{\"x\":0.05},\"mapbox\":{\"style\":\"light\"}}},\"xaxis\":{\"tickvals\":[\"data-scientist\",\"big-data-and-cloud-computing\",\"reinforcement-learning\",\"data-analyst\",\"block-chain\",\"neural-networks\",\"machine-learning\",\"deep-learning\",\"natural-language-processing\"],\"tickangle\":90,\"title\":{\"text\":\"Job Types\"}},\"title\":{\"font\":{\"size\":20},\"text\":\"Salary Ranges in DC and Outside DC\",\"x\":0.05,\"y\":0.85},\"legend\":{\"title\":{\"text\":\"Job in DC\"}},\"plot_bgcolor\":\"rgba(0,0,0,0)\",\"yaxis\":{\"title\":{\"text\":\"Salary ($USA)\"},\"showline\":true,\"linewidth\":1,\"gridcolor\":\"lightgrey\",\"layer\":\"below traces\"},\"boxmode\":\"group\"},                        {\"responsive\": true}                    ).then(function(){\n",
       "                            \n",
       "var gd = document.getElementById('663a7e76-e277-4ebe-8b2a-7d458f5f9709');\n",
       "var x = new MutationObserver(function (mutations, observer) {{\n",
       "        var display = window.getComputedStyle(gd).display;\n",
       "        if (!display || display === 'none') {{\n",
       "            console.log([gd, 'removed!']);\n",
       "            Plotly.purge(gd);\n",
       "            observer.disconnect();\n",
       "        }}\n",
       "}});\n",
       "\n",
       "// Listen for the removal of the full notebook cells\n",
       "var notebookContainer = gd.closest('#notebook-container');\n",
       "if (notebookContainer) {{\n",
       "    x.observe(notebookContainer, {childList: true});\n",
       "}}\n",
       "\n",
       "// Listen for the clearing of the current output cell\n",
       "var outputEl = gd.closest('.output');\n",
       "if (outputEl) {{\n",
       "    x.observe(outputEl, {childList: true});\n",
       "}}\n",
       "\n",
       "                        })                };                });            </script>        </div>"
      ]
     },
     "metadata": {},
     "output_type": "display_data"
    }
   ],
   "source": [
    "# INITIALIZE GRAPH OBJECT\n",
    "fig = go.Figure()\n",
    "cont = ['True', 'False']\n",
    "# Set the color scheme\n",
    "scheme = ['rgb(255, 0, 0)', 'rgb(255, 215, 0)']\n",
    "# add trace for every situation\n",
    "j = 0\n",
    "for i in cont:\n",
    "    df4 = combined_dataset.query(\"in_DC == {}\".format(i))  # filter by in_DC column\n",
    "    fig.add_trace(\n",
    "        go.Box(\n",
    "            x=df4[\"type\"],\n",
    "            y=df4[\"salary\"],\n",
    "            name=i,\n",
    "            boxmean=True,\n",
    "            marker_color=scheme[j],\n",
    "            opacity=1.0,\n",
    "            visible=True,\n",
    "        )\n",
    "    )\n",
    "    j += 1\n",
    "fig.update_layout(\n",
    "    xaxis=dict(tickvals=list(set(combined_dataset['type'])),\n",
    "    tickangle=90\n",
    "    ),\n",
    "    plot_bgcolor='rgba(0,0,0,0)',\n",
    "    title=dict(\n",
    "        text='Salary Ranges in DC and Outside DC',\n",
    "        x=0.05,\n",
    "        y=0.85,\n",
    "        font=dict(size=20)\n",
    "    ),\n",
    "    xaxis_title='Job Types',\n",
    "    yaxis_title='Salary ($USA)',\n",
    "    boxmode='group',\n",
    "    legend_title_text=\"Job in DC\"\n",
    ")\n",
    "fig.update_yaxes(\n",
    "    showline=True,\n",
    "    linewidth=1,\n",
    "    gridcolor='lightgrey',\n",
    "    layer='below traces'\n",
    ")\n",
    "fig.show()\n",
    "fig.write_html(\"../images/boxplot_DC.html\")\n"
   ]
  },
  {
   "cell_type": "code",
   "execution_count": 20,
   "metadata": {},
   "outputs": [
    {
     "data": {
      "text/plain": [
       "data-scientist                  14\n",
       "machine-learning                 9\n",
       "data-analyst                     7\n",
       "deep-learning                    7\n",
       "big-data-and-cloud-computing     6\n",
       "natural-language-processing      5\n",
       "block-chain                      4\n",
       "reinforcement-learning           4\n",
       "neural-networks                  2\n",
       "Name: type, dtype: int64"
      ]
     },
     "execution_count": 20,
     "metadata": {},
     "output_type": "execute_result"
    }
   ],
   "source": [
    "combined_dataset[combined_dataset['in_DC'] == True]['type'].value_counts()\n"
   ]
  },
  {
   "cell_type": "code",
   "execution_count": 14,
   "metadata": {},
   "outputs": [
    {
     "data": {
      "text/plain": [
       "machine-learning                43\n",
       "data-scientist                  32\n",
       "deep-learning                   31\n",
       "reinforcement-learning          22\n",
       "block-chain                     20\n",
       "natural-language-processing     19\n",
       "neural-networks                 18\n",
       "data-analyst                    14\n",
       "big-data-and-cloud-computing    12\n",
       "Name: type, dtype: int64"
      ]
     },
     "execution_count": 14,
     "metadata": {},
     "output_type": "execute_result"
    }
   ],
   "source": [
    "combined_dataset['type'].value_counts()\n"
   ]
  }
 ],
 "metadata": {
  "kernelspec": {
   "display_name": "anly503",
   "language": "python",
   "name": "python3"
  },
  "language_info": {
   "codemirror_mode": {
    "name": "ipython",
    "version": 3
   },
   "file_extension": ".py",
   "mimetype": "text/x-python",
   "name": "python",
   "nbconvert_exporter": "python",
   "pygments_lexer": "ipython3",
   "version": "3.10.8"
  },
  "orig_nbformat": 4
 },
 "nbformat": 4,
 "nbformat_minor": 2
}
