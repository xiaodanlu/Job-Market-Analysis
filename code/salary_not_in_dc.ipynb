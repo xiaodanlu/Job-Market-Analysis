{
 "cells": [
  {
   "cell_type": "code",
   "execution_count": 1,
   "metadata": {},
   "outputs": [],
   "source": [
    "import numpy as np\n",
    "import pandas as pd\n",
    "import json\n",
    "import os\n",
    "import re"
   ]
  },
  {
   "attachments": {},
   "cell_type": "markdown",
   "metadata": {},
   "source": [
    "## load both USA and DC dataset"
   ]
  },
  {
   "cell_type": "code",
   "execution_count": 5,
   "metadata": {},
   "outputs": [
    {
     "data": {
      "text/plain": [
       "47"
      ]
     },
     "execution_count": 5,
     "metadata": {},
     "output_type": "execute_result"
    }
   ],
   "source": [
    "# get all json file path in the folder\n",
    "folder_path = \"../dataset/USA\"\n",
    "\n",
    "file_paths = []\n",
    "for filename in os.listdir(folder_path):\n",
    "    filepath = os.path.join(folder_path, filename)\n",
    "    if os.path.isfile(filepath):\n",
    "        file_paths.append(filepath)\n",
    "\n",
    "len(file_paths)"
   ]
  },
  {
   "cell_type": "code",
   "execution_count": 6,
   "metadata": {},
   "outputs": [
    {
     "data": {
      "text/plain": [
       "85"
      ]
     },
     "execution_count": 6,
     "metadata": {},
     "output_type": "execute_result"
    }
   ],
   "source": [
    "folder_path = \"../dataset/DC\"\n",
    "\n",
    "for filename in os.listdir(folder_path):\n",
    "    filepath = os.path.join(folder_path, filename)\n",
    "    if os.path.isfile(filepath):\n",
    "        file_paths.append(filepath)\n",
    "\n",
    "len(file_paths)"
   ]
  },
  {
   "attachments": {},
   "cell_type": "markdown",
   "metadata": {},
   "source": [
    "## Extract job types"
   ]
  },
  {
   "cell_type": "code",
   "execution_count": 7,
   "metadata": {},
   "outputs": [
    {
     "name": "stdout",
     "output_type": "stream",
     "text": [
      "dict_keys(['block-chain', 'data-scientist', 'natural-language-processing', 'reinforcement-learning', 'neural-networks', 'big-data-and-cloud-computing', 'data-analyst', 'machine-learning', 'time-series-analysis', 'deep-learning', 'time-series'])\n"
     ]
    }
   ],
   "source": [
    "job_results_by_types = {}\n",
    "\n",
    "for file_path in file_paths:\n",
    "    match = re.search(r'/([^/]+)-\\d+\\.json$', file_path)\n",
    "    if match:\n",
    "        job_type = match.group(1)\n",
    "        with open(file_path, 'r') as f:\n",
    "            data = json.load(f)\n",
    "        job_results_by_types[job_type] = job_results_by_types.get(job_type, []) + [data,]\n",
    "\n",
    "print(job_results_by_types.keys())"
   ]
  },
  {
   "cell_type": "code",
   "execution_count": 9,
   "metadata": {},
   "outputs": [],
   "source": [
    "salary_by_types = pd.DataFrame(columns=['type', 'salary', 'job_id', 'description', 'in_DC'])\n",
    "data = []"
   ]
  },
  {
   "attachments": {},
   "cell_type": "markdown",
   "metadata": {},
   "source": [
    "## get dmv locations"
   ]
  },
  {
   "cell_type": "code",
   "execution_count": 10,
   "metadata": {},
   "outputs": [],
   "source": [
    "dmv_locations = ['dc', 'md', 'va', 'maryland', 'virginia', 'washington']"
   ]
  },
  {
   "attachments": {},
   "cell_type": "markdown",
   "metadata": {},
   "source": [
    "## find average salary of each job types not in dc"
   ]
  },
  {
   "cell_type": "code",
   "execution_count": 11,
   "metadata": {},
   "outputs": [
    {
     "name": "stderr",
     "output_type": "stream",
     "text": [
      "/var/folders/h0/sq_brb3d0_lfvtk4fhlbrck00000gn/T/ipykernel_51001/2759187651.py:76: FutureWarning: The frame.append method is deprecated and will be removed from pandas in a future version. Use pandas.concat instead.\n",
      "  salary_by_types = salary_by_types.append(data, ignore_index=True)\n"
     ]
    }
   ],
   "source": [
    "for job_type in job_results_by_types:\n",
    "    datasets = job_results_by_types[job_type]\n",
    "\n",
    "    for dataset in datasets:\n",
    "        if 'jobs_results' not in dataset:\n",
    "            continue \n",
    "        jobs_results = dataset[\"jobs_results\"]\n",
    "        for job_result in jobs_results:\n",
    "            description = job_result[\"description\"] \n",
    "            job_highlights = job_result[\"job_highlights\"] \n",
    "\n",
    "            location = job_result['location']\n",
    "\n",
    "            location_in_dmv = False \n",
    "            for dmv_location in dmv_locations:\n",
    "                if dmv_location in location.lower():\n",
    "                    location_in_dmv = True\n",
    "                    break \n",
    "\n",
    "            if location_in_dmv:\n",
    "                continue \n",
    "\n",
    "            qualifications = None \n",
    "            responsibilities = None \n",
    "            benefits = None \n",
    "\n",
    "            for highlight in job_highlights:\n",
    "                if highlight.get(\"title\") == \"Qualifications\":\n",
    "                    qualifications = highlight.get(\"items\") \n",
    "                elif highlight.get(\"title\") == \"Responsibilities\":\n",
    "                    responsibilities = highlight.get(\"items\")\n",
    "                elif highlight.get(\"title\") == 'Benefits':\n",
    "                    benefits = highlight.get(\"items\") \n",
    "\n",
    "            job_id = job_result[\"job_id\"]\n",
    "            salary_regex = r\"\\$([0-9,]+)\"\n",
    "\n",
    "            list_of_text = [description, qualifications, responsibilities, benefits]\n",
    "            total_salary = 0\n",
    "            num_salary = 0\n",
    "            for text_item in list_of_text:\n",
    "                if text_item is None:\n",
    "                    continue \n",
    "                else:\n",
    "                    if type(text_item) is list:\n",
    "                        for text in text_item:\n",
    "                            matches = re.findall(salary_regex, text)\n",
    "\n",
    "                            if len(matches) == 0:\n",
    "                                continue \n",
    "                            \n",
    "                            for match in matches:\n",
    "                                salary = float(match.replace(',', ''))\n",
    "                                if salary < 100000:\n",
    "                                    continue \n",
    "                                total_salary += salary\n",
    "                                num_salary += 1\n",
    "                    else:\n",
    "                        matches = re.findall(salary_regex, text_item)\n",
    "\n",
    "                        if len(matches) == 0:\n",
    "                            continue\n",
    "                        \n",
    "                        for match in matches:\n",
    "                            salary = float(match.replace(',', ''))\n",
    "                            if salary < 100000:\n",
    "                                continue \n",
    "                            total_salary += salary\n",
    "                            num_salary += 1\n",
    "\n",
    "            if num_salary != 0:\n",
    "                avg_salary = total_salary / num_salary\n",
    "                data.append({'type': job_type, \"salary\": avg_salary, 'job_id': job_id, 'description': description, 'in_DC': location_in_dmv})\n",
    "\n",
    "\n",
    "salary_by_types = salary_by_types.append(data, ignore_index=True)"
   ]
  },
  {
   "cell_type": "code",
   "execution_count": 12,
   "metadata": {},
   "outputs": [
    {
     "data": {
      "text/html": [
       "<div>\n",
       "<style scoped>\n",
       "    .dataframe tbody tr th:only-of-type {\n",
       "        vertical-align: middle;\n",
       "    }\n",
       "\n",
       "    .dataframe tbody tr th {\n",
       "        vertical-align: top;\n",
       "    }\n",
       "\n",
       "    .dataframe thead th {\n",
       "        text-align: right;\n",
       "    }\n",
       "</style>\n",
       "<table border=\"1\" class=\"dataframe\">\n",
       "  <thead>\n",
       "    <tr style=\"text-align: right;\">\n",
       "      <th></th>\n",
       "      <th>type</th>\n",
       "      <th>salary</th>\n",
       "      <th>job_id</th>\n",
       "      <th>description</th>\n",
       "      <th>in_DC</th>\n",
       "    </tr>\n",
       "  </thead>\n",
       "  <tbody>\n",
       "    <tr>\n",
       "      <th>0</th>\n",
       "      <td>block-chain</td>\n",
       "      <td>156000.0</td>\n",
       "      <td>eyJqb2JfdGl0bGUiOiJCbG9ja2NoYWluIFx1MDAyNiBEaW...</td>\n",
       "      <td>We are expanding Deloitte's Audit &amp; Assurance ...</td>\n",
       "      <td>False</td>\n",
       "    </tr>\n",
       "    <tr>\n",
       "      <th>1</th>\n",
       "      <td>block-chain</td>\n",
       "      <td>180000.0</td>\n",
       "      <td>eyJqb2JfdGl0bGUiOiJCbG9ja2NoYWluIEVuZ2luZWVyIi...</td>\n",
       "      <td>We are seeking a highly motivated and skilled ...</td>\n",
       "      <td>False</td>\n",
       "    </tr>\n",
       "    <tr>\n",
       "      <th>2</th>\n",
       "      <td>block-chain</td>\n",
       "      <td>500000.0</td>\n",
       "      <td>eyJqb2JfdGl0bGUiOiJEZUZpIEJsb2NrY2hhaW4gQ28tRm...</td>\n",
       "      <td>Cryptops is currently looking for a Co-Founder...</td>\n",
       "      <td>False</td>\n",
       "    </tr>\n",
       "    <tr>\n",
       "      <th>3</th>\n",
       "      <td>block-chain</td>\n",
       "      <td>180000.0</td>\n",
       "      <td>eyJqb2JfdGl0bGUiOiJCbG9ja2NoYWluIEVuZ2luZWVyIi...</td>\n",
       "      <td>21.co is the world's leader in providing acces...</td>\n",
       "      <td>False</td>\n",
       "    </tr>\n",
       "    <tr>\n",
       "      <th>4</th>\n",
       "      <td>block-chain</td>\n",
       "      <td>150000.0</td>\n",
       "      <td>eyJqb2JfdGl0bGUiOiJCbG9ja2NoYWluIEVuZ2luZWVyIi...</td>\n",
       "      <td>Jump Crypto is committed to building and stand...</td>\n",
       "      <td>False</td>\n",
       "    </tr>\n",
       "  </tbody>\n",
       "</table>\n",
       "</div>"
      ],
      "text/plain": [
       "          type    salary                                             job_id  \\\n",
       "0  block-chain  156000.0  eyJqb2JfdGl0bGUiOiJCbG9ja2NoYWluIFx1MDAyNiBEaW...   \n",
       "1  block-chain  180000.0  eyJqb2JfdGl0bGUiOiJCbG9ja2NoYWluIEVuZ2luZWVyIi...   \n",
       "2  block-chain  500000.0  eyJqb2JfdGl0bGUiOiJEZUZpIEJsb2NrY2hhaW4gQ28tRm...   \n",
       "3  block-chain  180000.0  eyJqb2JfdGl0bGUiOiJCbG9ja2NoYWluIEVuZ2luZWVyIi...   \n",
       "4  block-chain  150000.0  eyJqb2JfdGl0bGUiOiJCbG9ja2NoYWluIEVuZ2luZWVyIi...   \n",
       "\n",
       "                                         description  in_DC  \n",
       "0  We are expanding Deloitte's Audit & Assurance ...  False  \n",
       "1  We are seeking a highly motivated and skilled ...  False  \n",
       "2  Cryptops is currently looking for a Co-Founder...  False  \n",
       "3  21.co is the world's leader in providing acces...  False  \n",
       "4  Jump Crypto is committed to building and stand...  False  "
      ]
     },
     "execution_count": 12,
     "metadata": {},
     "output_type": "execute_result"
    }
   ],
   "source": [
    "salary_by_types.head()"
   ]
  },
  {
   "cell_type": "code",
   "execution_count": 13,
   "metadata": {},
   "outputs": [],
   "source": [
    "salary_by_types = salary_by_types.drop_duplicates(subset=['job_id', 'salary'])"
   ]
  },
  {
   "cell_type": "code",
   "execution_count": 14,
   "metadata": {},
   "outputs": [
    {
     "data": {
      "text/html": [
       "<div>\n",
       "<style scoped>\n",
       "    .dataframe tbody tr th:only-of-type {\n",
       "        vertical-align: middle;\n",
       "    }\n",
       "\n",
       "    .dataframe tbody tr th {\n",
       "        vertical-align: top;\n",
       "    }\n",
       "\n",
       "    .dataframe thead th {\n",
       "        text-align: right;\n",
       "    }\n",
       "</style>\n",
       "<table border=\"1\" class=\"dataframe\">\n",
       "  <thead>\n",
       "    <tr style=\"text-align: right;\">\n",
       "      <th></th>\n",
       "      <th>type</th>\n",
       "      <th>salary</th>\n",
       "      <th>job_id</th>\n",
       "      <th>description</th>\n",
       "      <th>in_DC</th>\n",
       "    </tr>\n",
       "  </thead>\n",
       "  <tbody>\n",
       "    <tr>\n",
       "      <th>0</th>\n",
       "      <td>block-chain</td>\n",
       "      <td>156000.0</td>\n",
       "      <td>eyJqb2JfdGl0bGUiOiJCbG9ja2NoYWluIFx1MDAyNiBEaW...</td>\n",
       "      <td>We are expanding Deloitte's Audit &amp; Assurance ...</td>\n",
       "      <td>False</td>\n",
       "    </tr>\n",
       "    <tr>\n",
       "      <th>1</th>\n",
       "      <td>block-chain</td>\n",
       "      <td>180000.0</td>\n",
       "      <td>eyJqb2JfdGl0bGUiOiJCbG9ja2NoYWluIEVuZ2luZWVyIi...</td>\n",
       "      <td>We are seeking a highly motivated and skilled ...</td>\n",
       "      <td>False</td>\n",
       "    </tr>\n",
       "    <tr>\n",
       "      <th>2</th>\n",
       "      <td>block-chain</td>\n",
       "      <td>500000.0</td>\n",
       "      <td>eyJqb2JfdGl0bGUiOiJEZUZpIEJsb2NrY2hhaW4gQ28tRm...</td>\n",
       "      <td>Cryptops is currently looking for a Co-Founder...</td>\n",
       "      <td>False</td>\n",
       "    </tr>\n",
       "    <tr>\n",
       "      <th>3</th>\n",
       "      <td>block-chain</td>\n",
       "      <td>180000.0</td>\n",
       "      <td>eyJqb2JfdGl0bGUiOiJCbG9ja2NoYWluIEVuZ2luZWVyIi...</td>\n",
       "      <td>21.co is the world's leader in providing acces...</td>\n",
       "      <td>False</td>\n",
       "    </tr>\n",
       "    <tr>\n",
       "      <th>4</th>\n",
       "      <td>block-chain</td>\n",
       "      <td>150000.0</td>\n",
       "      <td>eyJqb2JfdGl0bGUiOiJCbG9ja2NoYWluIEVuZ2luZWVyIi...</td>\n",
       "      <td>Jump Crypto is committed to building and stand...</td>\n",
       "      <td>False</td>\n",
       "    </tr>\n",
       "  </tbody>\n",
       "</table>\n",
       "</div>"
      ],
      "text/plain": [
       "          type    salary                                             job_id  \\\n",
       "0  block-chain  156000.0  eyJqb2JfdGl0bGUiOiJCbG9ja2NoYWluIFx1MDAyNiBEaW...   \n",
       "1  block-chain  180000.0  eyJqb2JfdGl0bGUiOiJCbG9ja2NoYWluIEVuZ2luZWVyIi...   \n",
       "2  block-chain  500000.0  eyJqb2JfdGl0bGUiOiJEZUZpIEJsb2NrY2hhaW4gQ28tRm...   \n",
       "3  block-chain  180000.0  eyJqb2JfdGl0bGUiOiJCbG9ja2NoYWluIEVuZ2luZWVyIi...   \n",
       "4  block-chain  150000.0  eyJqb2JfdGl0bGUiOiJCbG9ja2NoYWluIEVuZ2luZWVyIi...   \n",
       "\n",
       "                                         description  in_DC  \n",
       "0  We are expanding Deloitte's Audit & Assurance ...  False  \n",
       "1  We are seeking a highly motivated and skilled ...  False  \n",
       "2  Cryptops is currently looking for a Co-Founder...  False  \n",
       "3  21.co is the world's leader in providing acces...  False  \n",
       "4  Jump Crypto is committed to building and stand...  False  "
      ]
     },
     "execution_count": 14,
     "metadata": {},
     "output_type": "execute_result"
    }
   ],
   "source": [
    "salary_by_types.head(5) "
   ]
  },
  {
   "cell_type": "code",
   "execution_count": 15,
   "metadata": {},
   "outputs": [
    {
     "data": {
      "text/plain": [
       "(153, 5)"
      ]
     },
     "execution_count": 15,
     "metadata": {},
     "output_type": "execute_result"
    }
   ],
   "source": [
    "salary_by_types.shape"
   ]
  },
  {
   "cell_type": "code",
   "execution_count": 16,
   "metadata": {},
   "outputs": [
    {
     "data": {
      "text/plain": [
       "type\n",
       "big-data-and-cloud-computing    199083.333333\n",
       "block-chain                     212631.125000\n",
       "data-analyst                    123714.285714\n",
       "data-scientist                  159147.500000\n",
       "deep-learning                   205105.625000\n",
       "machine-learning                193466.209150\n",
       "natural-language-processing     171844.464286\n",
       "neural-networks                 230906.250000\n",
       "reinforcement-learning          194902.869048\n",
       "Name: salary, dtype: float64"
      ]
     },
     "execution_count": 16,
     "metadata": {},
     "output_type": "execute_result"
    }
   ],
   "source": [
    "salary_by_types.groupby(\"type\")['salary'].mean()"
   ]
  },
  {
   "cell_type": "code",
   "execution_count": 17,
   "metadata": {},
   "outputs": [],
   "source": [
    "salary_by_types.to_csv('../dataset/salary_not_in_dc.csv', index=False)"
   ]
  }
 ],
 "metadata": {
  "kernelspec": {
   "display_name": "base",
   "language": "python",
   "name": "python3"
  },
  "language_info": {
   "codemirror_mode": {
    "name": "ipython",
    "version": 3
   },
   "file_extension": ".py",
   "mimetype": "text/x-python",
   "name": "python",
   "nbconvert_exporter": "python",
   "pygments_lexer": "ipython3",
   "version": "3.10.8"
  },
  "orig_nbformat": 4
 },
 "nbformat": 4,
 "nbformat_minor": 2
}
